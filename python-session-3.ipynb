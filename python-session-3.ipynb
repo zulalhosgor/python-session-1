{
 "cells": [
  {
   "cell_type": "markdown",
   "id": "4e4fbc1e",
   "metadata": {},
   "source": [
    "# ternary conditionals"
   ]
  },
  {
   "cell_type": "code",
   "execution_count": 1,
   "id": "be567ebe",
   "metadata": {},
   "outputs": [],
   "source": [
    "# ternary consitionals allows to use if-else logic on a single line.\n",
    "# Let's say I want to test a certain situation and determine the value of the variable x according to the result of this test. If the answer to the question is \"y\", I will set the value equal to 2, otherwise equal to 0."
   ]
  },
  {
   "cell_type": "code",
   "execution_count": 2,
   "id": "a1c2dfd0",
   "metadata": {},
   "outputs": [
    {
     "name": "stdout",
     "output_type": "stream",
     "text": [
      "x has a value of 2? y/n? y/n2\n",
      "0\n"
     ]
    }
   ],
   "source": [
    "# as an answer \"y\" means yes or \"n\" for no.\n",
    "answer = input(\"x has a value of 2? y/n? y/n\")\n",
    "\n",
    "if answer == \"y\": # answer == \"y\" is the test.\n",
    "    x = 2\n",
    "else:\n",
    "    x = 0\n",
    "\n",
    "print(x)"
   ]
  },
  {
   "cell_type": "code",
   "execution_count": 3,
   "id": "a752acd3",
   "metadata": {},
   "outputs": [
    {
     "name": "stdout",
     "output_type": "stream",
     "text": [
      "x has a value of 2? y/n2\n",
      "0\n"
     ]
    }
   ],
   "source": [
    "answer = input(\"x has a value of 2? y/n\")\n",
    "\n",
    "\n",
    "x = 2 if answer==\"y\" else 0\n",
    "\n",
    "\n",
    "print(x)"
   ]
  },
  {
   "cell_type": "code",
   "execution_count": 4,
   "id": "8b9da5ca",
   "metadata": {},
   "outputs": [
    {
     "data": {
      "text/plain": [
       "0"
      ]
     },
     "execution_count": 4,
     "metadata": {},
     "output_type": "execute_result"
    }
   ],
   "source": [
    "condition = answer == \"y\"\n",
    "\n",
    "\n",
    "x = 2 if condition else 0 #if the given condition is true.\n",
    "\n",
    "x\n"
   ]
  },
  {
   "cell_type": "markdown",
   "id": "0772d8f6",
   "metadata": {},
   "source": [
    "# LOOPS"
   ]
  },
  {
   "cell_type": "code",
   "execution_count": 6,
   "id": "606be472",
   "metadata": {},
   "outputs": [],
   "source": [
    "#is a construct I use when I want to do something over and over again, such as running the same command again every time the user enters the password incorrectly."
   ]
  },
  {
   "cell_type": "markdown",
   "id": "0a81fe23",
   "metadata": {},
   "source": [
    "# while"
   ]
  },
  {
   "cell_type": "code",
   "execution_count": 8,
   "id": "a8c48a86",
   "metadata": {},
   "outputs": [],
   "source": [
    "# As long as the expression I wrote inside the while loop is true, the while loop will work.\n",
    "# For python to understand the code in while, we will write it with spaces in the lines like as for if."
   ]
  },
  {
   "cell_type": "code",
   "execution_count": 9,
   "id": "e5745bf4",
   "metadata": {},
   "outputs": [
    {
     "name": "stdout",
     "output_type": "stream",
     "text": [
      "enter a number: 2\n",
      "the number is even and it is 2\n"
     ]
    }
   ],
   "source": [
    "x = int(input(\"enter a number: \"))\n",
    "\n",
    "while x < 0:\n",
    "    print(\"type an even number\")\n",
    "    x = int(input(\"enter a number: \"))\n",
    "    \n",
    "print(\"the number is even and it is\", x)"
   ]
  },
  {
   "cell_type": "code",
   "execution_count": 10,
   "id": "b1a5a3f6",
   "metadata": {},
   "outputs": [
    {
     "name": "stdout",
     "output_type": "stream",
     "text": [
      "0\n",
      "1\n",
      "2\n"
     ]
    }
   ],
   "source": [
    "x = 0\n",
    "\n",
    "while x < 3:\n",
    "    print(x)\n",
    "    x = x + 1 #it will do the same thing until input would not fit the test."
   ]
  },
  {
   "cell_type": "code",
   "execution_count": 11,
   "id": "f7aa307b",
   "metadata": {},
   "outputs": [
    {
     "name": "stdout",
     "output_type": "stream",
     "text": [
      "5050\n"
     ]
    }
   ],
   "source": [
    "# lets say we need to find the sum of numbers from 0 to 100.\n",
    "\n",
    "sum = 0 \n",
    "x = 0 \n",
    "\n",
    "while x <= 100:\n",
    "    sum += x #wanted to add x more to the total.\n",
    "    x += 1 #wanted to add 1 to x.\n",
    "print(sum)"
   ]
  },
  {
   "cell_type": "code",
   "execution_count": 12,
   "id": "5c8bee32",
   "metadata": {},
   "outputs": [],
   "source": [
    "# need an expression to update the structure used for the loop. otherwise it goes into an infinite loop."
   ]
  },
  {
   "cell_type": "markdown",
   "id": "70e4e1be",
   "metadata": {},
   "source": [
    "sum = 0 \n",
    "\n",
    "x = 0 \n",
    "\n",
    "while x <= 100:\n",
    "\n",
    "    sum += x\n",
    "    \n",
    "    print(x)\n",
    "    \n",
    "print(sum) #an example of infinite loop."
   ]
  },
  {
   "cell_type": "markdown",
   "id": "5ab15c20",
   "metadata": {},
   "source": [
    "# for \n"
   ]
  },
  {
   "cell_type": "code",
   "execution_count": 15,
   "id": "8a984ec7",
   "metadata": {},
   "outputs": [],
   "source": [
    "#the for loop will loop over all the values of the structure we wrote after in and run the code in it as much as the number of elements."
   ]
  },
  {
   "cell_type": "code",
   "execution_count": 16,
   "id": "28a34771",
   "metadata": {},
   "outputs": [],
   "source": [
    "# for <variable> in <object>    --- iteration stuff"
   ]
  },
  {
   "cell_type": "code",
   "execution_count": 17,
   "id": "a745e07b",
   "metadata": {},
   "outputs": [],
   "source": [
    "# # At the very beginning of the for loop, \"variable\" takes the value of the first element of the \"object\". Once the code inside is executed, it runs it a second time, and this time the \"variable\" takes the value of the second element of the \"object\"."
   ]
  },
  {
   "cell_type": "code",
   "execution_count": 18,
   "id": "c72088f4",
   "metadata": {},
   "outputs": [
    {
     "name": "stdout",
     "output_type": "stream",
     "text": [
      "h\n",
      "e\n",
      "y\n"
     ]
    }
   ],
   "source": [
    "for c in \"hey\": #for the first time c was equal to \"h\" and printed. for the second time c was equal to \"e\" and printed.\n",
    "    print(c)"
   ]
  },
  {
   "cell_type": "code",
   "execution_count": 19,
   "id": "b541ba83",
   "metadata": {},
   "outputs": [
    {
     "name": "stdout",
     "output_type": "stream",
     "text": [
      "5050\n"
     ]
    }
   ],
   "source": [
    "sum = 0 \n",
    "\n",
    "for x in range(101): #sum of numbers from 0 to 100. it starts from 0 and ends with 100 which is number before 101.\n",
    "    sum += x #basically we are saying, you need to sum every x value from 0 to 100. \n",
    "\n",
    "print(sum)\n",
    "\n",
    "#for and range is commonly used together."
   ]
  },
  {
   "cell_type": "code",
   "execution_count": 20,
   "id": "14766b9b",
   "metadata": {},
   "outputs": [
    {
     "name": "stdout",
     "output_type": "stream",
     "text": [
      "0\n",
      "1\n",
      "2\n",
      "3\n",
      "4\n"
     ]
    }
   ],
   "source": [
    "for x in range(5): #kinda explanation of previous one. we just added sum part and it repeated the same thing in each step.\n",
    "    print(x)"
   ]
  },
  {
   "cell_type": "code",
   "execution_count": 21,
   "id": "e3e801b8",
   "metadata": {},
   "outputs": [
    {
     "name": "stdout",
     "output_type": "stream",
     "text": [
      "3125\n"
     ]
    }
   ],
   "source": [
    "sum = 1 \n",
    "for i in range(5): #\"i\" does not matter here. we used it for using \"for\" with \"range\". for those kind of cases common usage is following below. \n",
    "    sum *= 5\n",
    "\n",
    "print(sum)"
   ]
  },
  {
   "cell_type": "code",
   "execution_count": 22,
   "id": "8ddaba50",
   "metadata": {},
   "outputs": [
    {
     "name": "stdout",
     "output_type": "stream",
     "text": [
      "3125\n"
     ]
    }
   ],
   "source": [
    "sum = 1 \n",
    "for _ in range(5): \n",
    "    sum *= 5\n",
    "\n",
    "print(sum)"
   ]
  },
  {
   "cell_type": "markdown",
   "id": "fdec4ad6",
   "metadata": {},
   "source": [
    "# for vs while"
   ]
  },
  {
   "cell_type": "code",
   "execution_count": 25,
   "id": "995319b1",
   "metadata": {},
   "outputs": [],
   "source": [
    "# we dont know how many iterations we need in \"while\" but its clear with \"for\"\n",
    "# we can write \"for loop\" with using \"while. but we cannot write \"while loop\" with using \"for\"\n"
   ]
  },
  {
   "cell_type": "code",
   "execution_count": 26,
   "id": "f0e9a283",
   "metadata": {},
   "outputs": [
    {
     "name": "stdout",
     "output_type": "stream",
     "text": [
      "h\n",
      "e\n",
      "y\n"
     ]
    }
   ],
   "source": [
    "s = \"hey\"\n",
    "\n",
    "for c in s:\n",
    "    print(c)"
   ]
  },
  {
   "cell_type": "code",
   "execution_count": 27,
   "id": "c42aec6c",
   "metadata": {},
   "outputs": [
    {
     "name": "stdout",
     "output_type": "stream",
     "text": [
      "h\n",
      "e\n",
      "y\n"
     ]
    }
   ],
   "source": [
    "n = len(s) # range. it will do this operation as many times as the number of elements.\n",
    "index = 0 #we needed index to describe the range. \n",
    "\n",
    "while index < n: # 3 < n \n",
    "    print(s[index]) #print s with the value of index that its equal.\n",
    "    index += 1"
   ]
  },
  {
   "cell_type": "markdown",
   "id": "ac80a9dc",
   "metadata": {},
   "source": [
    "# continue"
   ]
  },
  {
   "cell_type": "code",
   "execution_count": 28,
   "id": "67cffca3",
   "metadata": {},
   "outputs": [],
   "source": [
    "# I want to exit the loop when a certain condition is met"
   ]
  },
  {
   "cell_type": "code",
   "execution_count": 31,
   "id": "2a91598d",
   "metadata": {},
   "outputs": [
    {
     "name": "stdout",
     "output_type": "stream",
     "text": [
      "0\n",
      "1\n",
      "2\n",
      "4\n",
      "5\n",
      "6\n",
      "7\n",
      "8\n",
      "9\n"
     ]
    }
   ],
   "source": [
    "for i in range(10):\n",
    "    if i == 3:\n",
    "        continue\n",
    "    print(i)\n",
    "    "
   ]
  },
  {
   "cell_type": "code",
   "execution_count": 32,
   "id": "50ed1ba2",
   "metadata": {},
   "outputs": [
    {
     "name": "stdout",
     "output_type": "stream",
     "text": [
      "0\n",
      "1\n",
      "2\n",
      "hey\n",
      "4\n",
      "5\n",
      "6\n",
      "7\n",
      "8\n",
      "9\n"
     ]
    }
   ],
   "source": [
    "for i in range(10):\n",
    "    if i == 3:\n",
    "        print(\"hey\")\n",
    "        continue\n",
    "    print(i)"
   ]
  },
  {
   "cell_type": "code",
   "execution_count": 33,
   "id": "cb783afa",
   "metadata": {},
   "outputs": [
    {
     "name": "stdout",
     "output_type": "stream",
     "text": [
      "0\n",
      "1\n",
      "2\n",
      "hey\n",
      "4\n",
      "5\n",
      "6\n",
      "7\n",
      "8\n",
      "9\n",
      "hello\n"
     ]
    }
   ],
   "source": [
    "for i in range(10):\n",
    "    if i == 3:\n",
    "        print(\"hey\") #continue can work for the code inside of the \"for\" that it belogs.\n",
    "        continue\n",
    "    print(i)\n",
    "\n",
    "print(\"hello\")"
   ]
  },
  {
   "cell_type": "code",
   "execution_count": 34,
   "id": "df230ee0",
   "metadata": {},
   "outputs": [
    {
     "name": "stdout",
     "output_type": "stream",
     "text": [
      "1\n",
      "2\n",
      "4\n",
      "5\n",
      "6\n",
      "7\n",
      "8\n",
      "9\n",
      "10\n"
     ]
    }
   ],
   "source": [
    "x = 0\n",
    "\n",
    "while x < 10:\n",
    "    x += 1\n",
    "    if x == 3:\n",
    "        continue\n",
    "    print(x)"
   ]
  },
  {
   "cell_type": "markdown",
   "id": "f4d6cf87",
   "metadata": {},
   "source": [
    "# break"
   ]
  },
  {
   "cell_type": "markdown",
   "id": "1e4d2564",
   "metadata": {},
   "source": [
    "If we want to exit the loop immediately when a certain condition is met, we can do this with break."
   ]
  },
  {
   "cell_type": "code",
   "execution_count": 1,
   "id": "95af89d5",
   "metadata": {},
   "outputs": [
    {
     "name": "stdout",
     "output_type": "stream",
     "text": [
      "0\n",
      "1\n",
      "2\n"
     ]
    }
   ],
   "source": [
    "for i in range(10): \n",
    "    if i == 3: \n",
    "        break\n",
    "    print(i)"
   ]
  },
  {
   "cell_type": "code",
   "execution_count": 3,
   "id": "36964e2a",
   "metadata": {},
   "outputs": [
    {
     "name": "stdout",
     "output_type": "stream",
     "text": [
      "0\n",
      "1\n",
      "2\n"
     ]
    }
   ],
   "source": [
    "x = 0\n",
    "\n",
    "while x < 10:\n",
    "\n",
    "    \n",
    "    print(x)\n",
    "    x += 1\n",
    "    \n",
    "\n",
    "    if x == 3:\n",
    "        break"
   ]
  }
 ],
 "metadata": {
  "kernelspec": {
   "display_name": "Python 3 (ipykernel)",
   "language": "python",
   "name": "python3"
  },
  "language_info": {
   "codemirror_mode": {
    "name": "ipython",
    "version": 3
   },
   "file_extension": ".py",
   "mimetype": "text/x-python",
   "name": "python",
   "nbconvert_exporter": "python",
   "pygments_lexer": "ipython3",
   "version": "3.8.9"
  }
 },
 "nbformat": 4,
 "nbformat_minor": 5
}
