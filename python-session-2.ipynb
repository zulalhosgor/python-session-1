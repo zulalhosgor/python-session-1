{
 "cells": [
  {
   "cell_type": "markdown",
   "id": "2ec02f90",
   "metadata": {},
   "source": [
    "# comparison of numeric data types\n"
   ]
  },
  {
   "cell_type": "markdown",
   "id": "fee31a25",
   "metadata": {},
   "source": [
    "a == b #equality test, results are boolean."
   ]
  },
  {
   "cell_type": "markdown",
   "id": "41819cb4",
   "metadata": {},
   "source": [
    "a != b #inequality test"
   ]
  },
  {
   "cell_type": "markdown",
   "id": "0e51b9d9",
   "metadata": {},
   "source": [
    "a > b "
   ]
  },
  {
   "cell_type": "markdown",
   "id": "e9be874b",
   "metadata": {},
   "source": [
    "a >= b "
   ]
  },
  {
   "cell_type": "markdown",
   "id": "8ad31a75",
   "metadata": {},
   "source": [
    "a <= b"
   ]
  },
  {
   "cell_type": "markdown",
   "id": "db702713",
   "metadata": {},
   "source": [
    "a < b "
   ]
  },
  {
   "cell_type": "markdown",
   "id": "ab93233b",
   "metadata": {},
   "source": [
    "# == operator "
   ]
  },
  {
   "cell_type": "code",
   "execution_count": 5,
   "id": "59dd95ec",
   "metadata": {},
   "outputs": [
    {
     "data": {
      "text/plain": [
       "False"
      ]
     },
     "execution_count": 5,
     "metadata": {},
     "output_type": "execute_result"
    }
   ],
   "source": [
    "5 == 4 "
   ]
  },
  {
   "cell_type": "code",
   "execution_count": 7,
   "id": "cd00f3bc",
   "metadata": {},
   "outputs": [
    {
     "data": {
      "text/plain": [
       "True"
      ]
     },
     "execution_count": 7,
     "metadata": {},
     "output_type": "execute_result"
    }
   ],
   "source": [
    "500 == 500"
   ]
  },
  {
   "cell_type": "code",
   "execution_count": 10,
   "id": "7ce93e43",
   "metadata": {},
   "outputs": [
    {
     "data": {
      "text/plain": [
       "False"
      ]
     },
     "execution_count": 10,
     "metadata": {},
     "output_type": "execute_result"
    }
   ],
   "source": [
    "a = 10 \n",
    "b = 20\n",
    "a == b "
   ]
  },
  {
   "cell_type": "code",
   "execution_count": 11,
   "id": "2486f094",
   "metadata": {},
   "outputs": [
    {
     "data": {
      "text/plain": [
       "True"
      ]
     },
     "execution_count": 11,
     "metadata": {},
     "output_type": "execute_result"
    }
   ],
   "source": [
    "5.2 == 5.2"
   ]
  },
  {
   "cell_type": "code",
   "execution_count": 12,
   "id": "48d6df47",
   "metadata": {},
   "outputs": [
    {
     "data": {
      "text/plain": [
       "False"
      ]
     },
     "execution_count": 12,
     "metadata": {},
     "output_type": "execute_result"
    }
   ],
   "source": [
    "5.3 == 5.4"
   ]
  },
  {
   "cell_type": "code",
   "execution_count": 14,
   "id": "e313f1ed",
   "metadata": {},
   "outputs": [
    {
     "data": {
      "text/plain": [
       "False"
      ]
     },
     "execution_count": 14,
     "metadata": {},
     "output_type": "execute_result"
    }
   ],
   "source": [
    "x = (0.3 * 3) + 0.1 #booleans might have trouble with ==\n",
    "y = 1.0\n",
    "x == y "
   ]
  },
  {
   "cell_type": "code",
   "execution_count": 15,
   "id": "80a41380",
   "metadata": {},
   "outputs": [
    {
     "data": {
      "text/plain": [
       "0.9999999999999999"
      ]
     },
     "execution_count": 15,
     "metadata": {},
     "output_type": "execute_result"
    }
   ],
   "source": [
    "x"
   ]
  },
  {
   "cell_type": "code",
   "execution_count": 16,
   "id": "66e4b15d",
   "metadata": {},
   "outputs": [
    {
     "data": {
      "text/plain": [
       "1.0"
      ]
     },
     "execution_count": 16,
     "metadata": {},
     "output_type": "execute_result"
    }
   ],
   "source": [
    "y "
   ]
  },
  {
   "cell_type": "markdown",
   "id": "60e0efb0",
   "metadata": {},
   "source": [
    "# != operator"
   ]
  },
  {
   "cell_type": "code",
   "execution_count": 18,
   "id": "24beef81",
   "metadata": {},
   "outputs": [
    {
     "data": {
      "text/plain": [
       "True"
      ]
     },
     "execution_count": 18,
     "metadata": {},
     "output_type": "execute_result"
    }
   ],
   "source": [
    "5 != 4"
   ]
  },
  {
   "cell_type": "code",
   "execution_count": 29,
   "id": "cbb07910",
   "metadata": {},
   "outputs": [
    {
     "data": {
      "text/plain": [
       "False"
      ]
     },
     "execution_count": 29,
     "metadata": {},
     "output_type": "execute_result"
    }
   ],
   "source": [
    "5 != 5 "
   ]
  },
  {
   "cell_type": "code",
   "execution_count": 30,
   "id": "466ad811",
   "metadata": {},
   "outputs": [
    {
     "data": {
      "text/plain": [
       "True"
      ]
     },
     "execution_count": 30,
     "metadata": {},
     "output_type": "execute_result"
    }
   ],
   "source": [
    "a = 10\n",
    "b = 12\n",
    "a != b"
   ]
  },
  {
   "cell_type": "markdown",
   "id": "64d8e42e",
   "metadata": {},
   "source": [
    "# >= operator"
   ]
  },
  {
   "cell_type": "code",
   "execution_count": 31,
   "id": "5120d9b3",
   "metadata": {},
   "outputs": [
    {
     "data": {
      "text/plain": [
       "True"
      ]
     },
     "execution_count": 31,
     "metadata": {},
     "output_type": "execute_result"
    }
   ],
   "source": [
    "5 >= 5"
   ]
  },
  {
   "cell_type": "code",
   "execution_count": 32,
   "id": "d483838e",
   "metadata": {},
   "outputs": [
    {
     "data": {
      "text/plain": [
       "True"
      ]
     },
     "execution_count": 32,
     "metadata": {},
     "output_type": "execute_result"
    }
   ],
   "source": [
    "x=int(float(\"3.9\"))\n",
    "\n",
    "y=3\n",
    "\n",
    "x==y"
   ]
  },
  {
   "cell_type": "code",
   "execution_count": 33,
   "id": "6c9e668f",
   "metadata": {},
   "outputs": [
    {
     "data": {
      "text/plain": [
       "3"
      ]
     },
     "execution_count": 33,
     "metadata": {},
     "output_type": "execute_result"
    }
   ],
   "source": [
    "x"
   ]
  },
  {
   "cell_type": "markdown",
   "id": "9fa86c68",
   "metadata": {},
   "source": [
    "# comparison of strings"
   ]
  },
  {
   "cell_type": "code",
   "execution_count": 35,
   "id": "b6aaa67b",
   "metadata": {},
   "outputs": [
    {
     "data": {
      "text/plain": [
       "False"
      ]
     },
     "execution_count": 35,
     "metadata": {},
     "output_type": "execute_result"
    }
   ],
   "source": [
    "\"Apple\" == \"apple\""
   ]
  },
  {
   "cell_type": "code",
   "execution_count": 36,
   "id": "d663e895",
   "metadata": {},
   "outputs": [
    {
     "data": {
      "text/plain": [
       "True"
      ]
     },
     "execution_count": 36,
     "metadata": {},
     "output_type": "execute_result"
    }
   ],
   "source": [
    "a = \"banana\"\n",
    "b = \"banana\"\n",
    "a == b"
   ]
  },
  {
   "cell_type": "code",
   "execution_count": 38,
   "id": "2a873262",
   "metadata": {},
   "outputs": [
    {
     "data": {
      "text/plain": [
       "True"
      ]
     },
     "execution_count": 38,
     "metadata": {},
     "output_type": "execute_result"
    }
   ],
   "source": [
    "\"a\" < \"b\""
   ]
  },
  {
   "cell_type": "code",
   "execution_count": 39,
   "id": "3924c8f3",
   "metadata": {},
   "outputs": [
    {
     "data": {
      "text/plain": [
       "False"
      ]
     },
     "execution_count": 39,
     "metadata": {},
     "output_type": "execute_result"
    }
   ],
   "source": [
    "\"b\" < \"a\""
   ]
  },
  {
   "cell_type": "code",
   "execution_count": 40,
   "id": "85d249e2",
   "metadata": {},
   "outputs": [
    {
     "data": {
      "text/plain": [
       "True"
      ]
     },
     "execution_count": 40,
     "metadata": {},
     "output_type": "execute_result"
    }
   ],
   "source": [
    "\"abc\" < \"bcd\" #for comparison strings, python is comparing first letters,"
   ]
  },
  {
   "cell_type": "code",
   "execution_count": 42,
   "id": "dab35ac4",
   "metadata": {},
   "outputs": [
    {
     "data": {
      "text/plain": [
       "True"
      ]
     },
     "execution_count": 42,
     "metadata": {},
     "output_type": "execute_result"
    }
   ],
   "source": [
    "\"abc\" < \"adc\" #and if the first letters are the same,"
   ]
  },
  {
   "cell_type": "markdown",
   "id": "3aa070a5",
   "metadata": {},
   "source": [
    "# logical operators"
   ]
  },
  {
   "cell_type": "code",
   "execution_count": 52,
   "id": "50d40de3",
   "metadata": {},
   "outputs": [],
   "source": [
    "# data types to which logical operators are applied must be boolean."
   ]
  },
  {
   "cell_type": "markdown",
   "id": "a512e671",
   "metadata": {},
   "source": [
    "not --------"
   ]
  },
  {
   "cell_type": "code",
   "execution_count": 44,
   "id": "cfb46b6a",
   "metadata": {},
   "outputs": [
    {
     "data": {
      "text/plain": [
       "False"
      ]
     },
     "execution_count": 44,
     "metadata": {},
     "output_type": "execute_result"
    }
   ],
   "source": [
    "# not\n",
    "not True"
   ]
  },
  {
   "cell_type": "code",
   "execution_count": 47,
   "id": "8235d97a",
   "metadata": {},
   "outputs": [
    {
     "data": {
      "text/plain": [
       "True"
      ]
     },
     "execution_count": 47,
     "metadata": {},
     "output_type": "execute_result"
    }
   ],
   "source": [
    "# false\n",
    "not False"
   ]
  },
  {
   "cell_type": "code",
   "execution_count": 48,
   "id": "a205acc8",
   "metadata": {},
   "outputs": [
    {
     "data": {
      "text/plain": [
       "False"
      ]
     },
     "execution_count": 48,
     "metadata": {},
     "output_type": "execute_result"
    }
   ],
   "source": [
    "not 5 < 6"
   ]
  },
  {
   "cell_type": "code",
   "execution_count": 49,
   "id": "87bbdb7a",
   "metadata": {},
   "outputs": [
    {
     "data": {
      "text/plain": [
       "False"
      ]
     },
     "execution_count": 49,
     "metadata": {},
     "output_type": "execute_result"
    }
   ],
   "source": [
    "not 5 == 5"
   ]
  },
  {
   "cell_type": "code",
   "execution_count": 50,
   "id": "8fd8a9af",
   "metadata": {},
   "outputs": [
    {
     "data": {
      "text/plain": [
       "False"
      ]
     },
     "execution_count": 50,
     "metadata": {},
     "output_type": "execute_result"
    }
   ],
   "source": [
    "a = 4\n",
    "b = 10\n",
    "\n",
    "not a < b"
   ]
  },
  {
   "cell_type": "code",
   "execution_count": 51,
   "id": "b928b185",
   "metadata": {},
   "outputs": [
    {
     "data": {
      "text/plain": [
       "True"
      ]
     },
     "execution_count": 51,
     "metadata": {},
     "output_type": "execute_result"
    }
   ],
   "source": [
    "not (a > b)"
   ]
  },
  {
   "cell_type": "markdown",
   "id": "55c7e5b1",
   "metadata": {},
   "source": [
    "and # returns True only if both expressions are True, otherwise False.\n"
   ]
  },
  {
   "cell_type": "code",
   "execution_count": 53,
   "id": "bb0dbfdb",
   "metadata": {},
   "outputs": [
    {
     "data": {
      "text/plain": [
       "True"
      ]
     },
     "execution_count": 53,
     "metadata": {},
     "output_type": "execute_result"
    }
   ],
   "source": [
    "True and True"
   ]
  },
  {
   "cell_type": "code",
   "execution_count": 54,
   "id": "94e4ef81",
   "metadata": {},
   "outputs": [
    {
     "data": {
      "text/plain": [
       "False"
      ]
     },
     "execution_count": 54,
     "metadata": {},
     "output_type": "execute_result"
    }
   ],
   "source": [
    "True and False"
   ]
  },
  {
   "cell_type": "code",
   "execution_count": 55,
   "id": "60802855",
   "metadata": {},
   "outputs": [
    {
     "data": {
      "text/plain": [
       "False"
      ]
     },
     "execution_count": 55,
     "metadata": {},
     "output_type": "execute_result"
    }
   ],
   "source": [
    "False and False"
   ]
  },
  {
   "cell_type": "code",
   "execution_count": null,
   "id": "c5659826",
   "metadata": {},
   "outputs": [],
   "source": [
    "a = 4\n",
    "b = 1\n",
    "c = 10\n",
    "\n",
    "\n",
    "(a > b) and (b < c)"
   ]
  },
  {
   "cell_type": "markdown",
   "id": "3dedaae0",
   "metadata": {},
   "source": [
    "or # returns False only if both expressions are False, otherwise True."
   ]
  },
  {
   "cell_type": "code",
   "execution_count": 58,
   "id": "4f41118b",
   "metadata": {},
   "outputs": [
    {
     "data": {
      "text/plain": [
       "True"
      ]
     },
     "execution_count": 58,
     "metadata": {},
     "output_type": "execute_result"
    }
   ],
   "source": [
    "True or True"
   ]
  },
  {
   "cell_type": "code",
   "execution_count": 59,
   "id": "b8d1cebc",
   "metadata": {},
   "outputs": [
    {
     "data": {
      "text/plain": [
       "True"
      ]
     },
     "execution_count": 59,
     "metadata": {},
     "output_type": "execute_result"
    }
   ],
   "source": [
    "True or False"
   ]
  },
  {
   "cell_type": "code",
   "execution_count": 60,
   "id": "d5c85ef4",
   "metadata": {},
   "outputs": [
    {
     "data": {
      "text/plain": [
       "False"
      ]
     },
     "execution_count": 60,
     "metadata": {},
     "output_type": "execute_result"
    }
   ],
   "source": [
    "False or False"
   ]
  },
  {
   "cell_type": "markdown",
   "id": "e45723f1",
   "metadata": {},
   "source": [
    "# Short Circuit"
   ]
  },
  {
   "cell_type": "code",
   "execution_count": 62,
   "id": "a69e62b4",
   "metadata": {},
   "outputs": [],
   "source": [
    "# For the and and or operators, the answer depends on what the first element is."
   ]
  },
  {
   "cell_type": "code",
   "execution_count": 64,
   "id": "5116aaad",
   "metadata": {},
   "outputs": [
    {
     "data": {
      "text/plain": [
       "False"
      ]
     },
     "execution_count": 64,
     "metadata": {},
     "output_type": "execute_result"
    }
   ],
   "source": [
    "(5 < 3) and print(\"hey\") #for \"and\" operator it is enough to say the result if the first element is False, so no need yo read the rest."
   ]
  },
  {
   "cell_type": "code",
   "execution_count": 65,
   "id": "9d975da8",
   "metadata": {},
   "outputs": [
    {
     "data": {
      "text/plain": [
       "True"
      ]
     },
     "execution_count": 65,
     "metadata": {},
     "output_type": "execute_result"
    }
   ],
   "source": [
    "(5 > 3) or print(\"hey\")"
   ]
  },
  {
   "cell_type": "code",
   "execution_count": 66,
   "id": "b012f5d5",
   "metadata": {},
   "outputs": [
    {
     "name": "stdout",
     "output_type": "stream",
     "text": [
      "hey\n"
     ]
    }
   ],
   "source": [
    "(5 < 3) or print(\"hey\")"
   ]
  },
  {
   "cell_type": "code",
   "execution_count": 68,
   "id": "fe674c31",
   "metadata": {},
   "outputs": [
    {
     "name": "stdout",
     "output_type": "stream",
     "text": [
      "hey\n"
     ]
    }
   ],
   "source": [
    "(5 > 3) and print(\"hey\")"
   ]
  },
  {
   "cell_type": "markdown",
   "id": "ce538982",
   "metadata": {},
   "source": [
    "# non short circuit logical operators"
   ]
  },
  {
   "cell_type": "markdown",
   "id": "598daec7",
   "metadata": {},
   "source": [
    "& #non short circuit AND"
   ]
  },
  {
   "cell_type": "code",
   "execution_count": 70,
   "id": "042ebca7",
   "metadata": {},
   "outputs": [
    {
     "data": {
      "text/plain": [
       "True"
      ]
     },
     "execution_count": 70,
     "metadata": {},
     "output_type": "execute_result"
    }
   ],
   "source": [
    "(2 == 2) & (3 == 3)"
   ]
  },
  {
   "cell_type": "code",
   "execution_count": 71,
   "id": "9c89e205",
   "metadata": {},
   "outputs": [
    {
     "name": "stdout",
     "output_type": "stream",
     "text": [
      "hey\n"
     ]
    },
    {
     "ename": "TypeError",
     "evalue": "unsupported operand type(s) for &: 'bool' and 'NoneType'",
     "output_type": "error",
     "traceback": [
      "\u001b[0;31m---------------------------------------------------------------------------\u001b[0m",
      "\u001b[0;31mTypeError\u001b[0m                                 Traceback (most recent call last)",
      "\u001b[0;32m/var/folders/n5/t0qr_kbd0z569ltn7n433qtm0000gn/T/ipykernel_45828/2947573728.py\u001b[0m in \u001b[0;36m<module>\u001b[0;34m\u001b[0m\n\u001b[0;32m----> 1\u001b[0;31m \u001b[0;34m(\u001b[0m\u001b[0;36m5\u001b[0m \u001b[0;34m<\u001b[0m \u001b[0;36m3\u001b[0m\u001b[0;34m)\u001b[0m \u001b[0;34m&\u001b[0m \u001b[0mprint\u001b[0m\u001b[0;34m(\u001b[0m\u001b[0;34m\"hey\"\u001b[0m\u001b[0;34m)\u001b[0m\u001b[0;34m\u001b[0m\u001b[0;34m\u001b[0m\u001b[0m\n\u001b[0m",
      "\u001b[0;31mTypeError\u001b[0m: unsupported operand type(s) for &: 'bool' and 'NoneType'"
     ]
    }
   ],
   "source": [
    "(5 < 3) & print(\"hey\")"
   ]
  },
  {
   "cell_type": "markdown",
   "id": "ab38803a",
   "metadata": {},
   "source": [
    "| # non short circuit OR"
   ]
  },
  {
   "cell_type": "code",
   "execution_count": null,
   "id": "e225d8e4",
   "metadata": {},
   "outputs": [],
   "source": [
    "(2 == 2) | (3 < 3)"
   ]
  },
  {
   "cell_type": "code",
   "execution_count": 74,
   "id": "662d97ea",
   "metadata": {},
   "outputs": [
    {
     "data": {
      "text/plain": [
       "True"
      ]
     },
     "execution_count": 74,
     "metadata": {},
     "output_type": "execute_result"
    }
   ],
   "source": [
    "(10 > 3) or print(\"hey\")"
   ]
  },
  {
   "cell_type": "code",
   "execution_count": 75,
   "id": "c12735bd",
   "metadata": {},
   "outputs": [
    {
     "name": "stdout",
     "output_type": "stream",
     "text": [
      "hey\n"
     ]
    },
    {
     "ename": "TypeError",
     "evalue": "unsupported operand type(s) for |: 'bool' and 'NoneType'",
     "output_type": "error",
     "traceback": [
      "\u001b[0;31m---------------------------------------------------------------------------\u001b[0m",
      "\u001b[0;31mTypeError\u001b[0m                                 Traceback (most recent call last)",
      "\u001b[0;32m/var/folders/n5/t0qr_kbd0z569ltn7n433qtm0000gn/T/ipykernel_45828/3922255921.py\u001b[0m in \u001b[0;36m<module>\u001b[0;34m\u001b[0m\n\u001b[0;32m----> 1\u001b[0;31m \u001b[0;34m(\u001b[0m\u001b[0;36m5\u001b[0m \u001b[0;34m>\u001b[0m \u001b[0;36m3\u001b[0m\u001b[0;34m)\u001b[0m \u001b[0;34m|\u001b[0m \u001b[0mprint\u001b[0m\u001b[0;34m(\u001b[0m\u001b[0;34m\"hey\"\u001b[0m\u001b[0;34m)\u001b[0m\u001b[0;34m\u001b[0m\u001b[0;34m\u001b[0m\u001b[0m\n\u001b[0m",
      "\u001b[0;31mTypeError\u001b[0m: unsupported operand type(s) for |: 'bool' and 'NoneType'"
     ]
    }
   ],
   "source": [
    "(5 > 3) | print(\"hey\")"
   ]
  },
  {
   "cell_type": "markdown",
   "id": "7084e9de",
   "metadata": {},
   "source": [
    "# Branching if - else - elif"
   ]
  },
  {
   "cell_type": "code",
   "execution_count": 77,
   "id": "5cf0e4f9",
   "metadata": {},
   "outputs": [],
   "source": [
    "# if \n",
    "# if the value of the test is True, we will do what is written in the if block.\n",
    "\n",
    "# we write the code inside the if to tell Python that what we are doing belongs to the if block. To let Python know that we are in that block, we need to leave a space."
   ]
  },
  {
   "cell_type": "code",
   "execution_count": null,
   "id": "2374ec3c",
   "metadata": {},
   "outputs": [],
   "source": [
    "x = int(input(\"Enter a number: \"))\n",
    "\n",
    "if x % 2 == 0: \n",
    "    print(\"even number\")\n",
    "\n",
    "print(\"end of the program\")"
   ]
  },
  {
   "cell_type": "code",
   "execution_count": 80,
   "id": "16e10ab6",
   "metadata": {},
   "outputs": [],
   "source": [
    "# else\n",
    "# block to do if our check with if (or elseif-elif) returns False:"
   ]
  },
  {
   "cell_type": "code",
   "execution_count": null,
   "id": "c22431ba",
   "metadata": {},
   "outputs": [],
   "source": [
    "x = int(input(\"enter a number: \"))\n",
    "\n",
    "if x % 2 == 0:\n",
    "    print(\"even number\")\n",
    "else:\n",
    "    print(\"odd number\")\n",
    "\n",
    "print(\"end of the program\")"
   ]
  },
  {
   "cell_type": "code",
   "execution_count": null,
   "id": "11512c74",
   "metadata": {},
   "outputs": [],
   "source": [
    "#elif \n",
    "# if we want to add other tests."
   ]
  },
  {
   "cell_type": "code",
   "execution_count": null,
   "id": "0a1d9d78",
   "metadata": {},
   "outputs": [],
   "source": [
    "x = int(input(\"enter a number: \"))\n",
    "\n",
    "if x < 10:\n",
    "    print(\"number is lower than 10\")\n",
    "\n",
    "    \n",
    "elif x == 10:\n",
    "    print(\"number is equal to 10\")\n",
    "    \n",
    "else:\n",
    "    print(\"number is higher than 10\")\n",
    "    \n",
    "print(\"end of the program\")"
   ]
  },
  {
   "cell_type": "code",
   "execution_count": null,
   "id": "4d991ea6",
   "metadata": {},
   "outputs": [],
   "source": [
    "x = int(input(\"enter a number between 0 and 100: \"))\n",
    "\n",
    "if x == 100:\n",
    "    print(\"number is equal to 100\")\n",
    "\n",
    "elif x >= 90:\n",
    "    print(\"number is between 90 and 100\")\n",
    "\n",
    "elif x >= 80:\n",
    "    print(\"number is between 80 and 90\")\n",
    "    \n",
    "else:\n",
    "    print(\"number is lower than 80\")\n",
    "    \n",
    "print(\"end of the program\")"
   ]
  },
  {
   "cell_type": "code",
   "execution_count": null,
   "id": "ceab3970",
   "metadata": {},
   "outputs": [],
   "source": [
    "# Nested if\n",
    "# The code we write inside the if, elif and else block is not different from the normal code, so we can also write if, elif and else inside them."
   ]
  },
  {
   "cell_type": "code",
   "execution_count": null,
   "id": "ba35a72e",
   "metadata": {},
   "outputs": [],
   "source": [
    "x = int(input(\"enter a number: \"))\n",
    "\n",
    "if x % 3 == 0:\n",
    "    if x % 2 == 0:\n",
    "        print(\"the number is divided by both 2 and 3\")\n",
    "    else:\n",
    "        print(\"number divides by 3 but not by 2\")\n",
    "\n",
    "else:\n",
    "    \n",
    "    print(\"the number is not divided by 3 \")\n",
    "    \n",
    "print(\"end of the program\")"
   ]
  },
  {
   "cell_type": "markdown",
   "id": "41dc3339",
   "metadata": {},
   "source": [
    "# Using Logical Operators as a Test"
   ]
  },
  {
   "cell_type": "code",
   "execution_count": null,
   "id": "88b12c48",
   "metadata": {},
   "outputs": [],
   "source": [
    "x = int(input(\"enter a number: \"))\n",
    "\n",
    "if (x % 3 == 0) and (x % 2) == 0:\n",
    "    print(\"the number is divided by both 2 and 3\")\n",
    "    \n",
    "print(\"end of the program\")"
   ]
  },
  {
   "cell_type": "code",
   "execution_count": null,
   "id": "d81d8b3f",
   "metadata": {},
   "outputs": [],
   "source": [
    "x = int(input(\"enter a number: \"))\n",
    "\n",
    "if (x % 3 == 0) or (x % 2 == 0):\n",
    "    print(\"the number is divided by at least one of 2 or 3\")\n",
    "    \n",
    "print(\"end of te program\")"
   ]
  }
 ],
 "metadata": {
  "kernelspec": {
   "display_name": "Python 3 (ipykernel)",
   "language": "python",
   "name": "python3"
  },
  "language_info": {
   "codemirror_mode": {
    "name": "ipython",
    "version": 3
   },
   "file_extension": ".py",
   "mimetype": "text/x-python",
   "name": "python",
   "nbconvert_exporter": "python",
   "pygments_lexer": "ipython3",
   "version": "3.9.13"
  }
 },
 "nbformat": 4,
 "nbformat_minor": 5
}
