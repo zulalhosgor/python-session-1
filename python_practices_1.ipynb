{
  "nbformat": 4,
  "nbformat_minor": 0,
  "metadata": {
    "colab": {
      "provenance": [],
      "authorship_tag": "ABX9TyPoGiP07ogdXYn8R9AnICTd"
    },
    "kernelspec": {
      "name": "python3",
      "display_name": "Python 3"
    },
    "language_info": {
      "name": "python"
    }
  },
  "cells": [
    {
      "cell_type": "code",
      "source": [
        "name = input('Name: ')\n",
        "print('Greetings', name)"
      ],
      "metadata": {
        "colab": {
          "base_uri": "https://localhost:8080/"
        },
        "id": "msJ3Af-uwiF3",
        "outputId": "5bad8cd0-2be9-4d3e-8b77-7da1b8586e15"
      },
      "execution_count": null,
      "outputs": [
        {
          "output_type": "stream",
          "name": "stdout",
          "text": [
            "Name: can\n",
            "Greetings can\n"
          ]
        }
      ]
    },
    {
      "cell_type": "code",
      "source": [
        "number = int(input('Number: '))\n",
        "print(number + 1000)"
      ],
      "metadata": {
        "colab": {
          "base_uri": "https://localhost:8080/"
        },
        "id": "c49W2F-Jw5WA",
        "outputId": "2ca2182e-d6b3-42ec-aacd-e28e33e8621e"
      },
      "execution_count": null,
      "outputs": [
        {
          "output_type": "stream",
          "name": "stdout",
          "text": [
            "Number: 22\n",
            "1022\n"
          ]
        }
      ]
    },
    {
      "cell_type": "code",
      "source": [
        "#modules /floor method goes with the closest low number.\n",
        "import math\n",
        "floor_number = math.floor(3.45)\n",
        "print(floor_number, type(floor_number))\n"
      ],
      "metadata": {
        "colab": {
          "base_uri": "https://localhost:8080/"
        },
        "id": "IRxRNHr8xC5s",
        "outputId": "d920579d-1e5b-4586-905c-7c3a19c5ddb2"
      },
      "execution_count": null,
      "outputs": [
        {
          "output_type": "stream",
          "name": "stdout",
          "text": [
            "3 <class 'int'>\n"
          ]
        }
      ]
    },
    {
      "cell_type": "code",
      "source": [
        "import datetime\n",
        "print(datetime.datetime.now())\n"
      ],
      "metadata": {
        "colab": {
          "base_uri": "https://localhost:8080/"
        },
        "id": "xpSh0Ma4yXFD",
        "outputId": "998fef9b-307b-4927-ddff-e9c1bff69c76"
      },
      "execution_count": null,
      "outputs": [
        {
          "output_type": "stream",
          "name": "stdout",
          "text": [
            "2024-02-15 12:42:24.653927\n"
          ]
        }
      ]
    },
    {
      "cell_type": "code",
      "source": [
        "#roll a dice\n",
        "import random\n",
        "print(random.randint(1,6))"
      ],
      "metadata": {
        "colab": {
          "base_uri": "https://localhost:8080/"
        },
        "id": "Jh73AkmLytZo",
        "outputId": "35757d41-a5b7-427b-ab79-b54468481dce"
      },
      "execution_count": null,
      "outputs": [
        {
          "output_type": "stream",
          "name": "stdout",
          "text": [
            "5\n"
          ]
        }
      ]
    },
    {
      "cell_type": "code",
      "source": [
        "#operators and operands\n",
        "print(\"5 + 2 = \", 5 + 2)\n",
        "print(\"5 - 2 = \", 5 - 2)\n",
        "print(\"5 * 2 = \", 5 * 2)\n",
        "print(\"5 / 2 = \", 5 / 2)\n",
        "print(\"5 ** 2 = \", 5 ** 2) #If we want to perform exponentiation, we use double asterisks.\n",
        "print(\"5 // 2 = \", 5 // 2) #Floor division. Unlike the normal division, here the result will be rounded to a whole number. That’s why it is also called integer division. In Python, the number will always be rounded to the smaller integer.\n",
        "print(\"5 % 2 = \", 5 % 2) #Modulo operator, which will give you the remainder of a division."
      ],
      "metadata": {
        "colab": {
          "base_uri": "https://localhost:8080/"
        },
        "id": "CQhj7EEBzHFl",
        "outputId": "750fcde1-f8d7-4230-96ea-0e28c09a4406"
      },
      "execution_count": null,
      "outputs": [
        {
          "output_type": "stream",
          "name": "stdout",
          "text": [
            "5 + 2 =  7\n",
            "5 - 2 =  3\n",
            "5 * 2 =  10\n",
            "5 / 2 =  2.5\n",
            "5 ** 2 =  25\n",
            "5 // 2 =  2\n",
            "5 % 2 =  1\n"
          ]
        }
      ]
    },
    {
      "cell_type": "code",
      "source": [
        "x = 5 # equivalent to x = 5\n",
        "x += 5 # equivalent to x = x + 5\n",
        "x -= 5 # equivalent to x = x - 5"
      ],
      "metadata": {
        "id": "0IkPu6MW1JYh"
      },
      "execution_count": null,
      "outputs": []
    },
    {
      "cell_type": "code",
      "source": [
        "num1 = 1\n",
        "num2 = 2\n",
        "print(num1, \">\", num2, \"=\", num1 > num2)\n",
        "print(num1, \">=\", num2, \"=\", num1 >= num2)\n",
        "print(num1, \"<\", num2, \"=\", num1 < num2)\n",
        "print(num1, \"<=\", num2, \"=\", num1 <= num2)\n",
        "print(num1, \"==\", num2, \"=\", num1 == num2)\n",
        "print(num1, \"!=\", num2, \"=\", num1 != num2)"
      ],
      "metadata": {
        "colab": {
          "base_uri": "https://localhost:8080/"
        },
        "id": "RIdYstC12Fcr",
        "outputId": "06e240c2-d0a5-4e5c-ea6f-2cf135044fb7"
      },
      "execution_count": null,
      "outputs": [
        {
          "output_type": "stream",
          "name": "stdout",
          "text": [
            "1 > 2 = False\n",
            "1 >= 2 = False\n",
            "1 < 2 = True\n",
            "1 <= 2 = True\n",
            "1 == 2 = False\n",
            "1 != 2 = True\n"
          ]
        }
      ]
    },
    {
      "cell_type": "code",
      "source": [],
      "metadata": {
        "id": "worb9Omf2Gji"
      },
      "execution_count": null,
      "outputs": []
    },
    {
      "cell_type": "code",
      "source": [
        "print('True and True =' , True and True)\n",
        "print('True and False =' , True and False)\n",
        "print('False and True =' , False and True)\n",
        "print('False and False =' , False and False)"
      ],
      "metadata": {
        "colab": {
          "base_uri": "https://localhost:8080/"
        },
        "id": "8ca-RgOg3NNl",
        "outputId": "4208b50b-8481-4f7b-e28a-6aa0a7c0e40b"
      },
      "execution_count": null,
      "outputs": [
        {
          "output_type": "stream",
          "name": "stdout",
          "text": [
            "True and True = True\n",
            "True and False = False\n",
            "False and True = False\n",
            "False and False = False\n"
          ]
        }
      ]
    },
    {
      "cell_type": "code",
      "source": [
        "print('True or True =' , True or True)\n",
        "print('True or False =' , True or False)\n",
        "print('False or True =' , False or True)\n",
        "print('False or False =' , False or False)"
      ],
      "metadata": {
        "colab": {
          "base_uri": "https://localhost:8080/"
        },
        "id": "GRwe0U5T4ub1",
        "outputId": "57b21feb-6ec2-4064-cde9-68c43b374fa3"
      },
      "execution_count": null,
      "outputs": [
        {
          "output_type": "stream",
          "name": "stdout",
          "text": [
            "True or True = True\n",
            "True or False = True\n",
            "False or True = True\n",
            "False or False = False\n"
          ]
        }
      ]
    },
    {
      "cell_type": "code",
      "source": [
        "print('not True =' , not True)\n",
        "print('not False =' , not False)"
      ],
      "metadata": {
        "colab": {
          "base_uri": "https://localhost:8080/"
        },
        "id": "US1nWHOX5VXt",
        "outputId": "a5de17ff-2f15-45a4-9a0c-6d21a8c009fa"
      },
      "execution_count": null,
      "outputs": [
        {
          "output_type": "stream",
          "name": "stdout",
          "text": [
            "not True = False\n",
            "not False = True\n"
          ]
        }
      ]
    },
    {
      "cell_type": "code",
      "source": [
        "##FLOW CONTROLS\n",
        "celsius = 32\n",
        "\n",
        "if celsius > 30:\n",
        "  print('Hot')\n",
        "elif 30 >= celsius > 20:\n",
        "  print('Good')\n",
        "elif -273 <celsius <= 20:\n",
        "  print('Cold')\n",
        "else:\n",
        "  print('Something went wrong')"
      ],
      "metadata": {
        "colab": {
          "base_uri": "https://localhost:8080/"
        },
        "id": "P-tnkpzj55cA",
        "outputId": "9a438691-9f6c-4c22-f650-195b588089e6"
      },
      "execution_count": null,
      "outputs": [
        {
          "output_type": "stream",
          "name": "stdout",
          "text": [
            "Hot\n"
          ]
        }
      ]
    },
    {
      "cell_type": "code",
      "source": [
        "#NESTED IF STATEMENTS\n",
        "\n",
        "drivers_license = True\n",
        "age = 17\n",
        "\n",
        "if age > 17:\n",
        "  if drivers_license:\n",
        "    print('You can drive a car')\n",
        "  else:\n",
        "    print('You need to go to course')\n",
        "else:\n",
        "  print('you need to get older')\n"
      ],
      "metadata": {
        "colab": {
          "base_uri": "https://localhost:8080/"
        },
        "id": "urZe7LkEnL4Q",
        "outputId": "d32210fb-08f4-4ecc-ee5e-52cce88e0d6c"
      },
      "execution_count": null,
      "outputs": [
        {
          "output_type": "stream",
          "name": "stdout",
          "text": [
            "you need to get older\n"
          ]
        }
      ]
    },
    {
      "cell_type": "code",
      "source": [
        "#FOR LOOPS (for & while)\n",
        "name = 'eyheyhejehnkd'\n",
        "\n",
        "for i in name:\n",
        "  print(i)\n",
        "print('loop is completed')"
      ],
      "metadata": {
        "colab": {
          "base_uri": "https://localhost:8080/"
        },
        "id": "18KZXsYGpSVf",
        "outputId": "e6c75a5e-d112-4002-d60f-b16ed4885e7e"
      },
      "execution_count": null,
      "outputs": [
        {
          "output_type": "stream",
          "name": "stdout",
          "text": [
            "e\n",
            "y\n",
            "h\n",
            "e\n",
            "y\n",
            "h\n",
            "e\n",
            "j\n",
            "e\n",
            "h\n",
            "n\n",
            "k\n",
            "d\n",
            "loop is completed\n"
          ]
        }
      ]
    },
    {
      "cell_type": "code",
      "source": [
        "numbers = [1, 2, 3, 4, 5, 6, 7, 8, 9, 10]\n",
        "for i in numbers:\n",
        "    print(i)\n",
        "print('list is completed')"
      ],
      "metadata": {
        "colab": {
          "base_uri": "https://localhost:8080/"
        },
        "id": "6HO5W5ceqVFv",
        "outputId": "2f441e26-4a83-414c-cd08-dcc2c37b1421"
      },
      "execution_count": null,
      "outputs": [
        {
          "output_type": "stream",
          "name": "stdout",
          "text": [
            "1\n",
            "2\n",
            "3\n",
            "4\n",
            "5\n",
            "6\n",
            "7\n",
            "8\n",
            "9\n",
            "10\n",
            "list is completed\n"
          ]
        }
      ]
    },
    {
      "cell_type": "code",
      "source": [
        "range(10)"
      ],
      "metadata": {
        "colab": {
          "base_uri": "https://localhost:8080/"
        },
        "id": "T5pMt66Jskgk",
        "outputId": "25ce39ce-758c-4992-fff6-d72e253f2fca"
      },
      "execution_count": null,
      "outputs": [
        {
          "output_type": "execute_result",
          "data": {
            "text/plain": [
              "range(0, 10)"
            ]
          },
          "metadata": {},
          "execution_count": 15
        }
      ]
    },
    {
      "cell_type": "code",
      "source": [
        "for i in range(5,21):\n",
        "  print(i)\n",
        "print(\"loop is completed\")"
      ],
      "metadata": {
        "colab": {
          "base_uri": "https://localhost:8080/"
        },
        "id": "6da-VIhIsrAv",
        "outputId": "e827f53f-9412-404e-b22f-125a3ec0eb0a"
      },
      "execution_count": null,
      "outputs": [
        {
          "output_type": "stream",
          "name": "stdout",
          "text": [
            "5\n",
            "6\n",
            "7\n",
            "8\n",
            "9\n",
            "10\n",
            "11\n",
            "12\n",
            "13\n",
            "14\n",
            "15\n",
            "16\n",
            "17\n",
            "18\n",
            "19\n",
            "20\n",
            "loop is completed\n"
          ]
        }
      ]
    },
    {
      "cell_type": "code",
      "source": [
        "for i in range(1,101):\n",
        "  if i % 5 == 0:\n",
        "    print(i)\n",
        "print(\"completed\")"
      ],
      "metadata": {
        "colab": {
          "base_uri": "https://localhost:8080/"
        },
        "id": "KvDySYeDtSEs",
        "outputId": "9cb15ec7-e6ca-4650-8a05-1d2cdf4d8d8f"
      },
      "execution_count": null,
      "outputs": [
        {
          "output_type": "stream",
          "name": "stdout",
          "text": [
            "5\n",
            "10\n",
            "15\n",
            "20\n",
            "25\n",
            "30\n",
            "35\n",
            "40\n",
            "45\n",
            "50\n",
            "55\n",
            "60\n",
            "65\n",
            "70\n",
            "75\n",
            "80\n",
            "85\n",
            "90\n",
            "95\n",
            "100\n",
            "completed\n"
          ]
        }
      ]
    },
    {
      "cell_type": "code",
      "source": [
        "celsius = 10\n",
        "\n",
        "while celsius <= 50:\n",
        "\n",
        "  if celsius > 30:\n",
        "    print('Hot')\n",
        "  elif celsius < 30:\n",
        "    print('Good')\n",
        "  elif -273 < celsius <= 20:\n",
        "    print('Cold')\n",
        "  else:\n",
        "    print('Something went wrong')\n",
        "\n",
        "  print(\"the current temperature is\", celsius)\n",
        "  celsius += 5"
      ],
      "metadata": {
        "colab": {
          "base_uri": "https://localhost:8080/"
        },
        "id": "XiR9-coguZeL",
        "outputId": "cc92c783-ebfd-4806-fae8-9f4ad4996e87"
      },
      "execution_count": null,
      "outputs": [
        {
          "output_type": "stream",
          "name": "stdout",
          "text": [
            "Good\n",
            "the current temperature is 10\n",
            "Good\n",
            "the current temperature is 15\n",
            "Good\n",
            "the current temperature is 20\n",
            "Good\n",
            "the current temperature is 25\n",
            "Something went wrong\n",
            "the current temperature is 30\n",
            "Hot\n",
            "the current temperature is 35\n",
            "Hot\n",
            "the current temperature is 40\n",
            "Hot\n",
            "the current temperature is 45\n",
            "Hot\n",
            "the current temperature is 50\n"
          ]
        }
      ]
    },
    {
      "cell_type": "code",
      "source": [
        "import time\n",
        "counter = 0\n",
        "\n",
        "while counter >= 0:\n",
        "  counter += 1\n",
        "\n",
        "  print(counter)\n",
        "  time.sleep(1)"
      ],
      "metadata": {
        "colab": {
          "base_uri": "https://localhost:8080/",
          "height": 483
        },
        "id": "adSewcj_x7rM",
        "outputId": "63961a59-a8d8-4000-9114-e06530858ca9"
      },
      "execution_count": null,
      "outputs": [
        {
          "output_type": "stream",
          "name": "stdout",
          "text": [
            "1\n",
            "2\n",
            "3\n",
            "4\n",
            "5\n",
            "6\n",
            "7\n",
            "8\n",
            "9\n",
            "10\n",
            "11\n",
            "12\n",
            "13\n",
            "14\n",
            "15\n",
            "16\n",
            "17\n"
          ]
        },
        {
          "output_type": "error",
          "ename": "KeyboardInterrupt",
          "evalue": "",
          "traceback": [
            "\u001b[0;31m---------------------------------------------------------------------------\u001b[0m",
            "\u001b[0;31mKeyboardInterrupt\u001b[0m                         Traceback (most recent call last)",
            "\u001b[0;32m<ipython-input-26-675ebd2d270c>\u001b[0m in \u001b[0;36m<cell line: 4>\u001b[0;34m()\u001b[0m\n\u001b[1;32m      6\u001b[0m \u001b[0;34m\u001b[0m\u001b[0m\n\u001b[1;32m      7\u001b[0m   \u001b[0mprint\u001b[0m\u001b[0;34m(\u001b[0m\u001b[0mcounter\u001b[0m\u001b[0;34m)\u001b[0m\u001b[0;34m\u001b[0m\u001b[0;34m\u001b[0m\u001b[0m\n\u001b[0;32m----> 8\u001b[0;31m   \u001b[0mtime\u001b[0m\u001b[0;34m.\u001b[0m\u001b[0msleep\u001b[0m\u001b[0;34m(\u001b[0m\u001b[0;36m1\u001b[0m\u001b[0;34m)\u001b[0m\u001b[0;34m\u001b[0m\u001b[0;34m\u001b[0m\u001b[0m\n\u001b[0m",
            "\u001b[0;31mKeyboardInterrupt\u001b[0m: "
          ]
        }
      ]
    },
    {
      "cell_type": "code",
      "source": [
        "import random\n",
        "while True:\n",
        "\n",
        "  random_number = random.randrange(1000)\n",
        "  print(random_number)\n",
        "\n",
        "  if random_number == 777:\n",
        "    print(\"Found!\")\n",
        "    break"
      ],
      "metadata": {
        "colab": {
          "base_uri": "https://localhost:8080/"
        },
        "id": "Ieqn1mQ4ymAv",
        "outputId": "93e9dc89-e5db-4683-cd2e-8e01a41164f6"
      },
      "execution_count": null,
      "outputs": [
        {
          "output_type": "stream",
          "name": "stdout",
          "text": [
            "348\n",
            "336\n",
            "887\n",
            "445\n",
            "277\n",
            "975\n",
            "764\n",
            "9\n",
            "213\n",
            "924\n",
            "643\n",
            "222\n",
            "553\n",
            "684\n",
            "996\n",
            "717\n",
            "949\n",
            "815\n",
            "342\n",
            "121\n",
            "915\n",
            "110\n",
            "718\n",
            "887\n",
            "313\n",
            "38\n",
            "399\n",
            "232\n",
            "869\n",
            "127\n",
            "728\n",
            "993\n",
            "996\n",
            "554\n",
            "987\n",
            "280\n",
            "480\n",
            "491\n",
            "719\n",
            "553\n",
            "575\n",
            "782\n",
            "879\n",
            "83\n",
            "972\n",
            "277\n",
            "929\n",
            "128\n",
            "944\n",
            "252\n",
            "602\n",
            "55\n",
            "254\n",
            "797\n",
            "740\n",
            "692\n",
            "988\n",
            "125\n",
            "78\n",
            "834\n",
            "842\n",
            "306\n",
            "268\n",
            "221\n",
            "749\n",
            "402\n",
            "784\n",
            "241\n",
            "53\n",
            "807\n",
            "13\n",
            "608\n",
            "253\n",
            "553\n",
            "830\n",
            "979\n",
            "846\n",
            "947\n",
            "922\n",
            "418\n",
            "22\n",
            "233\n",
            "742\n",
            "508\n",
            "823\n",
            "259\n",
            "900\n",
            "116\n",
            "776\n",
            "548\n",
            "803\n",
            "142\n",
            "365\n",
            "614\n",
            "869\n",
            "167\n",
            "5\n",
            "248\n",
            "503\n",
            "724\n",
            "817\n",
            "368\n",
            "865\n",
            "70\n",
            "410\n",
            "980\n",
            "569\n",
            "541\n",
            "29\n",
            "948\n",
            "342\n",
            "907\n",
            "989\n",
            "425\n",
            "15\n",
            "311\n",
            "692\n",
            "904\n",
            "302\n",
            "283\n",
            "869\n",
            "622\n",
            "187\n",
            "59\n",
            "347\n",
            "222\n",
            "373\n",
            "826\n",
            "882\n",
            "639\n",
            "327\n",
            "927\n",
            "397\n",
            "230\n",
            "606\n",
            "199\n",
            "418\n",
            "495\n",
            "112\n",
            "802\n",
            "551\n",
            "383\n",
            "396\n",
            "409\n",
            "515\n",
            "446\n",
            "283\n",
            "21\n",
            "543\n",
            "988\n",
            "473\n",
            "947\n",
            "591\n",
            "20\n",
            "0\n",
            "995\n",
            "39\n",
            "855\n",
            "566\n",
            "824\n",
            "557\n",
            "500\n",
            "174\n",
            "595\n",
            "871\n",
            "889\n",
            "91\n",
            "676\n",
            "189\n",
            "9\n",
            "546\n",
            "316\n",
            "973\n",
            "513\n",
            "17\n",
            "765\n",
            "327\n",
            "912\n",
            "907\n",
            "944\n",
            "243\n",
            "525\n",
            "221\n",
            "883\n",
            "433\n",
            "732\n",
            "648\n",
            "109\n",
            "418\n",
            "150\n",
            "777\n",
            "Found!\n"
          ]
        }
      ]
    },
    {
      "cell_type": "code",
      "source": [
        "name_list = [\"max\", \"deniz\", \"ayse\" , \"selin\", \"andy\" , 26, \"tom\" , \"tim\"]\n",
        "\n",
        "for name in name_list:\n",
        "\n",
        "  if type(name) != str:\n",
        "    print(\"found\", name)\n",
        "    break\n",
        "\n",
        "  else:\n",
        "    print(name,  \"is a string\")"
      ],
      "metadata": {
        "colab": {
          "base_uri": "https://localhost:8080/"
        },
        "id": "5f2r0ZJDztG9",
        "outputId": "7082837d-0be2-4bc9-d972-6dc01e6242e3"
      },
      "execution_count": null,
      "outputs": [
        {
          "output_type": "stream",
          "name": "stdout",
          "text": [
            "max is a string\n",
            "deniz is a string\n",
            "ayse is a string\n",
            "selin is a string\n",
            "andy is a string\n",
            "found 26\n"
          ]
        }
      ]
    },
    {
      "cell_type": "code",
      "source": [
        "x = True\n",
        "y = False\n",
        "z = False\n",
        "\n",
        "if not x or y:\n",
        "  print(1)\n",
        "elif not x or not y and z:\n",
        "  print(2)\n",
        "elif not x or y or not y and x:\n",
        "  print(3)\n",
        "else:\n",
        "  print(4)"
      ],
      "metadata": {
        "colab": {
          "base_uri": "https://localhost:8080/"
        },
        "id": "rO1bwIZb36Wl",
        "outputId": "bdfaf9e2-1786-44af-e258-871e6e1a874e"
      },
      "execution_count": null,
      "outputs": [
        {
          "output_type": "stream",
          "name": "stdout",
          "text": [
            "3\n"
          ]
        }
      ]
    },
    {
      "cell_type": "code",
      "source": [
        "num = 3.4\n",
        "if num > 0:\n",
        "  print(\"positive number\")\n",
        "elif num == 0:\n",
        "  print(\"zero\")\n",
        "else:\n",
        "  print(\"negative number\")"
      ],
      "metadata": {
        "colab": {
          "base_uri": "https://localhost:8080/"
        },
        "id": "C8tPga7I4JYg",
        "outputId": "2e33c4ff-8b86-4f53-97f3-0c4de39ac29a"
      },
      "execution_count": null,
      "outputs": [
        {
          "output_type": "stream",
          "name": "stdout",
          "text": [
            "positive number\n"
          ]
        }
      ]
    },
    {
      "cell_type": "code",
      "source": [
        "my_list = [1,5,5,5,5,1]\n",
        "top = my_list[0]\n",
        "\n",
        "for element in my_list:\n",
        "  if element > top:\n",
        "    top = element\n",
        "print(my_list[top])"
      ],
      "metadata": {
        "colab": {
          "base_uri": "https://localhost:8080/"
        },
        "id": "M6Nf8wuq4iUe",
        "outputId": "fbe9a0d2-adf1-4f60-a26d-e7c4845c86b5"
      },
      "execution_count": null,
      "outputs": [
        {
          "output_type": "stream",
          "name": "stdout",
          "text": [
            "1\n"
          ]
        }
      ]
    },
    {
      "cell_type": "code",
      "source": [
        "i = 1\n",
        "while True:\n",
        "  print(i)\n",
        "  i += 2\n",
        "  if (i == 5):\n",
        "    break"
      ],
      "metadata": {
        "colab": {
          "base_uri": "https://localhost:8080/"
        },
        "id": "AUyD2D6f42uh",
        "outputId": "30c8476d-e246-4289-e276-4a84e3ef91c5"
      },
      "execution_count": null,
      "outputs": [
        {
          "output_type": "stream",
          "name": "stdout",
          "text": [
            "1\n",
            "3\n"
          ]
        }
      ]
    },
    {
      "cell_type": "code",
      "source": [
        "for i in \"Istanbul\":\n",
        "  if i == \"n\":\n",
        "    break\n",
        "  else:\n",
        "    x += 1\n",
        "\n",
        "print(x)"
      ],
      "metadata": {
        "colab": {
          "base_uri": "https://localhost:8080/"
        },
        "id": "0p_OJRfH5F8G",
        "outputId": "bc5a4e09-2a70-445e-c9f0-8964669f6a28"
      },
      "execution_count": null,
      "outputs": [
        {
          "output_type": "stream",
          "name": "stdout",
          "text": [
            "5\n"
          ]
        }
      ]
    },
    {
      "cell_type": "code",
      "source": [
        "found = False\n",
        "mylist = [13,12,66,87,99,203,111,54,431,11]\n",
        "i = 0\n",
        "while (not found):\n",
        "  if (mylist[i] == 54):\n",
        "    found = True\n",
        "    break\n",
        "\n",
        "if found:\n",
        "  print(\"54 is found in the list\")\n",
        "else:\n",
        "  print(\"54 is not found in the list\")"
      ],
      "metadata": {
        "colab": {
          "base_uri": "https://localhost:8080/",
          "height": 216
        },
        "id": "z-ccr2wE5xaD",
        "outputId": "08d54f23-44a3-43f5-97fc-d38804b2878c"
      },
      "execution_count": null,
      "outputs": [
        {
          "output_type": "error",
          "ename": "KeyboardInterrupt",
          "evalue": "",
          "traceback": [
            "\u001b[0;31m---------------------------------------------------------------------------\u001b[0m",
            "\u001b[0;31mKeyboardInterrupt\u001b[0m                         Traceback (most recent call last)",
            "\u001b[0;32m<ipython-input-37-e977f254bafa>\u001b[0m in \u001b[0;36m<cell line: 4>\u001b[0;34m()\u001b[0m\n\u001b[1;32m      2\u001b[0m \u001b[0mmylist\u001b[0m \u001b[0;34m=\u001b[0m \u001b[0;34m[\u001b[0m\u001b[0;36m13\u001b[0m\u001b[0;34m,\u001b[0m\u001b[0;36m12\u001b[0m\u001b[0;34m,\u001b[0m\u001b[0;36m66\u001b[0m\u001b[0;34m,\u001b[0m\u001b[0;36m87\u001b[0m\u001b[0;34m,\u001b[0m\u001b[0;36m99\u001b[0m\u001b[0;34m,\u001b[0m\u001b[0;36m203\u001b[0m\u001b[0;34m,\u001b[0m\u001b[0;36m111\u001b[0m\u001b[0;34m,\u001b[0m\u001b[0;36m54\u001b[0m\u001b[0;34m,\u001b[0m\u001b[0;36m431\u001b[0m\u001b[0;34m,\u001b[0m\u001b[0;36m11\u001b[0m\u001b[0;34m]\u001b[0m\u001b[0;34m\u001b[0m\u001b[0;34m\u001b[0m\u001b[0m\n\u001b[1;32m      3\u001b[0m \u001b[0mi\u001b[0m \u001b[0;34m=\u001b[0m \u001b[0;36m0\u001b[0m\u001b[0;34m\u001b[0m\u001b[0;34m\u001b[0m\u001b[0m\n\u001b[0;32m----> 4\u001b[0;31m \u001b[0;32mwhile\u001b[0m \u001b[0;34m(\u001b[0m\u001b[0;32mnot\u001b[0m \u001b[0mfound\u001b[0m\u001b[0;34m)\u001b[0m\u001b[0;34m:\u001b[0m\u001b[0;34m\u001b[0m\u001b[0;34m\u001b[0m\u001b[0m\n\u001b[0m\u001b[1;32m      5\u001b[0m   \u001b[0;32mif\u001b[0m \u001b[0;34m(\u001b[0m\u001b[0mmylist\u001b[0m\u001b[0;34m[\u001b[0m\u001b[0mi\u001b[0m\u001b[0;34m]\u001b[0m \u001b[0;34m==\u001b[0m \u001b[0;36m54\u001b[0m\u001b[0;34m)\u001b[0m\u001b[0;34m:\u001b[0m\u001b[0;34m\u001b[0m\u001b[0;34m\u001b[0m\u001b[0m\n\u001b[1;32m      6\u001b[0m     \u001b[0mfound\u001b[0m \u001b[0;34m=\u001b[0m \u001b[0;32mTrue\u001b[0m\u001b[0;34m\u001b[0m\u001b[0;34m\u001b[0m\u001b[0m\n",
            "\u001b[0;31mKeyboardInterrupt\u001b[0m: "
          ]
        }
      ]
    },
    {
      "cell_type": "code",
      "source": [
        "#FUNCTIONS\n",
        "def hello(name):\n",
        "  print(\"hello\", name)\n",
        "\n",
        "hello(\"deniz\")"
      ],
      "metadata": {
        "colab": {
          "base_uri": "https://localhost:8080/"
        },
        "id": "Hic0Ddz66pUV",
        "outputId": "f6048264-3866-4098-ec73-8d411f8b46ca"
      },
      "execution_count": null,
      "outputs": [
        {
          "output_type": "stream",
          "name": "stdout",
          "text": [
            "hello deniz\n"
          ]
        }
      ]
    },
    {
      "cell_type": "code",
      "source": [
        "def sum(number1, number2):\n",
        "  answer = number1 + number2\n",
        "  return answer\n",
        "\n",
        "result = sum(3,5)\n",
        "print(result)"
      ],
      "metadata": {
        "id": "9n4QW6Ox7bM0",
        "outputId": "35229aaa-ed71-4474-9799-88afa7bae5ba",
        "colab": {
          "base_uri": "https://localhost:8080/"
        }
      },
      "execution_count": null,
      "outputs": [
        {
          "output_type": "stream",
          "name": "stdout",
          "text": [
            "8\n"
          ]
        }
      ]
    },
    {
      "cell_type": "code",
      "source": [
        "#Arguments, Scopes\n",
        "\n",
        "def argument_printer(arg_position1, arg_position2):\n",
        "\tprint(\"argument at position 1:\", arg_position1)\n",
        "\tprint(\"argument at position 2:\", arg_position2)\n",
        "\n",
        "argument_printer('value1', 'value2')"
      ],
      "metadata": {
        "colab": {
          "base_uri": "https://localhost:8080/"
        },
        "id": "ApC0uW8KmUGB",
        "outputId": "463455bf-28c0-4450-e91b-b157067f7ba1"
      },
      "execution_count": 12,
      "outputs": [
        {
          "output_type": "stream",
          "name": "stdout",
          "text": [
            "argument at position 1: value1\n",
            "argument at position 2: value2\n"
          ]
        }
      ]
    },
    {
      "cell_type": "code",
      "source": [
        "def greetings(first_name, last_name, auto_correction):\n",
        "    if auto_correction == True:\n",
        "        capitalized_first_name = first_name.capitalize()\n",
        "        capitalized_last_name = last_name.capitalize()\n",
        "        print(\"Hello,\", capitalized_first_name, capitalized_last_name)\n",
        "    else:\n",
        "        print(\"Hello,\", first_name, last_name)\n",
        "\n",
        "greetings(\"deniZ\", \"kAYA\", True)\n"
      ],
      "metadata": {
        "colab": {
          "base_uri": "https://localhost:8080/"
        },
        "id": "J73_A93UoGfp",
        "outputId": "f62d5024-7e3c-45ff-9499-da360acdbede"
      },
      "execution_count": 15,
      "outputs": [
        {
          "output_type": "stream",
          "name": "stdout",
          "text": [
            "Hello, Deniz Kaya\n"
          ]
        }
      ]
    },
    {
      "cell_type": "code",
      "source": [
        "def greetings(first_name, last_name, auto_correction = True):\n",
        "    if auto_correction == True:\n",
        "        capitalized_first_name = first_name.capitalize()\n",
        "        capitalized_last_name = last_name.capitalize()\n",
        "        print(\"Hello,\", capitalized_first_name, capitalized_last_name)\n",
        "    else:\n",
        "        print(\"Hello,\", first_name, last_name)\n",
        "\n",
        "greetings(\"deniZ\", \"kAYA\", True)"
      ],
      "metadata": {
        "colab": {
          "base_uri": "https://localhost:8080/"
        },
        "id": "nQUqx7EYpnc4",
        "outputId": "b4bb61f8-26e0-45e3-fc67-d512c5b48103"
      },
      "execution_count": 16,
      "outputs": [
        {
          "output_type": "stream",
          "name": "stdout",
          "text": [
            "Hello, Deniz Kaya\n"
          ]
        }
      ]
    },
    {
      "cell_type": "code",
      "source": [
        "#keyword arguments\n",
        "#position arguments"
      ],
      "metadata": {
        "id": "9YRQAYobp_XP"
      },
      "execution_count": null,
      "outputs": []
    },
    {
      "cell_type": "code",
      "source": [
        "#local scopes & global scopes\n",
        "\n",
        "number = 13 #global variable\n",
        "\n",
        "def change_number():\n",
        "\tnumber = 4 #local variable\n",
        "\n",
        "change_number()\n",
        "print(number)"
      ],
      "metadata": {
        "colab": {
          "base_uri": "https://localhost:8080/"
        },
        "id": "aIuZiyVBqCSe",
        "outputId": "3ecca3f5-eb13-4835-b9da-d35ef12335f3"
      },
      "execution_count": 18,
      "outputs": [
        {
          "output_type": "stream",
          "name": "stdout",
          "text": [
            "13\n"
          ]
        }
      ]
    },
    {
      "cell_type": "code",
      "source": [
        "numner = 13\n",
        "\n",
        "def change_number():\n",
        "\tglobal number\n",
        "\tnumber = 4\n",
        "\n",
        "change_number()\n",
        "print(number)"
      ],
      "metadata": {
        "colab": {
          "base_uri": "https://localhost:8080/"
        },
        "id": "dXRzgzv8rRft",
        "outputId": "dde5a007-c201-414c-bdbd-c259e6d5e721"
      },
      "execution_count": 19,
      "outputs": [
        {
          "output_type": "stream",
          "name": "stdout",
          "text": [
            "4\n"
          ]
        }
      ]
    },
    {
      "cell_type": "code",
      "source": [
        "#modules = split your code to small parts.\n",
        "\n",
        "import test\n",
        "\n",
        "test.greetings(\"brad\")"
      ],
      "metadata": {
        "colab": {
          "base_uri": "https://localhost:8080/"
        },
        "id": "dEdh3m5jrn8K",
        "outputId": "f203d1cb-4f17-4645-c252-f70accaaf2a1"
      },
      "execution_count": 20,
      "outputs": [
        {
          "output_type": "stream",
          "name": "stdout",
          "text": [
            "Hello brad\n"
          ]
        }
      ]
    },
    {
      "cell_type": "code",
      "source": [
        "!pip install seaborn"
      ],
      "metadata": {
        "colab": {
          "base_uri": "https://localhost:8080/"
        },
        "id": "xSgNUaQCsw1O",
        "outputId": "142cafe1-9ab3-48ed-c778-49e8e53df58d"
      },
      "execution_count": 21,
      "outputs": [
        {
          "output_type": "stream",
          "name": "stdout",
          "text": [
            "Requirement already satisfied: seaborn in /usr/local/lib/python3.10/dist-packages (0.13.1)\n",
            "Requirement already satisfied: numpy!=1.24.0,>=1.20 in /usr/local/lib/python3.10/dist-packages (from seaborn) (1.25.2)\n",
            "Requirement already satisfied: pandas>=1.2 in /usr/local/lib/python3.10/dist-packages (from seaborn) (1.5.3)\n",
            "Requirement already satisfied: matplotlib!=3.6.1,>=3.4 in /usr/local/lib/python3.10/dist-packages (from seaborn) (3.7.1)\n",
            "Requirement already satisfied: contourpy>=1.0.1 in /usr/local/lib/python3.10/dist-packages (from matplotlib!=3.6.1,>=3.4->seaborn) (1.2.0)\n",
            "Requirement already satisfied: cycler>=0.10 in /usr/local/lib/python3.10/dist-packages (from matplotlib!=3.6.1,>=3.4->seaborn) (0.12.1)\n",
            "Requirement already satisfied: fonttools>=4.22.0 in /usr/local/lib/python3.10/dist-packages (from matplotlib!=3.6.1,>=3.4->seaborn) (4.49.0)\n",
            "Requirement already satisfied: kiwisolver>=1.0.1 in /usr/local/lib/python3.10/dist-packages (from matplotlib!=3.6.1,>=3.4->seaborn) (1.4.5)\n",
            "Requirement already satisfied: packaging>=20.0 in /usr/local/lib/python3.10/dist-packages (from matplotlib!=3.6.1,>=3.4->seaborn) (23.2)\n",
            "Requirement already satisfied: pillow>=6.2.0 in /usr/local/lib/python3.10/dist-packages (from matplotlib!=3.6.1,>=3.4->seaborn) (9.4.0)\n",
            "Requirement already satisfied: pyparsing>=2.3.1 in /usr/local/lib/python3.10/dist-packages (from matplotlib!=3.6.1,>=3.4->seaborn) (3.1.1)\n",
            "Requirement already satisfied: python-dateutil>=2.7 in /usr/local/lib/python3.10/dist-packages (from matplotlib!=3.6.1,>=3.4->seaborn) (2.8.2)\n",
            "Requirement already satisfied: pytz>=2020.1 in /usr/local/lib/python3.10/dist-packages (from pandas>=1.2->seaborn) (2023.4)\n",
            "Requirement already satisfied: six>=1.5 in /usr/local/lib/python3.10/dist-packages (from python-dateutil>=2.7->matplotlib!=3.6.1,>=3.4->seaborn) (1.16.0)\n"
          ]
        }
      ]
    },
    {
      "cell_type": "code",
      "source": [
        "import seaborn as sns"
      ],
      "metadata": {
        "id": "l1YNOKVkmRaa"
      },
      "execution_count": 25,
      "outputs": []
    },
    {
      "cell_type": "code",
      "source": [
        "def myfunction(a, b, c=5, d=2):\n",
        "\tif c > d:\n",
        "\t\tprint(a)\n",
        "\telse:\n",
        "\t\tprint(b)\n",
        "\n",
        "myfunction(a=0, b=1, d=4)"
      ],
      "metadata": {
        "colab": {
          "base_uri": "https://localhost:8080/"
        },
        "id": "-DYhH0bbuAZJ",
        "outputId": "09b86521-8d4f-44d9-8d16-e16a166b9f5b"
      },
      "execution_count": 28,
      "outputs": [
        {
          "output_type": "stream",
          "name": "stdout",
          "text": [
            "0\n"
          ]
        }
      ]
    },
    {
      "cell_type": "code",
      "source": [
        "price = 1200\n",
        "\n",
        "def update_price(new_price):\n",
        "\tprince = new_price\n",
        "\treturn price\n",
        "\n",
        "update_price(1500)\n",
        "print(price)"
      ],
      "metadata": {
        "colab": {
          "base_uri": "https://localhost:8080/"
        },
        "id": "keJPzdpSv1Qk",
        "outputId": "6b26e334-28ab-4a16-9e00-66c69622c37f"
      },
      "execution_count": 33,
      "outputs": [
        {
          "output_type": "stream",
          "name": "stdout",
          "text": [
            "1200\n"
          ]
        }
      ]
    },
    {
      "cell_type": "code",
      "source": [
        "#LISTS & TUPLES => lists are mutable, tuples are immutable\n",
        "\n",
        "#append = to add items at the end of the list.\n",
        "\n",
        "shopping_list = [\"Apple\", \"Juice\", \"Ball\", \"Book\"]\n",
        "\n",
        "shopping_list.append(\"Water\")\n",
        "print(shopping_list)"
      ],
      "metadata": {
        "colab": {
          "base_uri": "https://localhost:8080/"
        },
        "id": "K77DCuM-v_75",
        "outputId": "0925f406-4389-4c28-a7d2-3d4ce642938e"
      },
      "execution_count": 35,
      "outputs": [
        {
          "output_type": "stream",
          "name": "stdout",
          "text": [
            "['Apple', 'Juice', 'Ball', 'Book', 'Water']\n"
          ]
        }
      ]
    },
    {
      "cell_type": "code",
      "source": [
        "#insert = to add elements in any position.\n",
        "\n",
        "shopping_list.insert(2, \"Banana\")\n",
        "print(shopping_list)"
      ],
      "metadata": {
        "colab": {
          "base_uri": "https://localhost:8080/"
        },
        "id": "kApPsyl-xC45",
        "outputId": "08bbe0ae-5890-44d3-bfa8-08680bcdbb58"
      },
      "execution_count": 36,
      "outputs": [
        {
          "output_type": "stream",
          "name": "stdout",
          "text": [
            "['Apple', 'Juice', 'Banana', 'Ball', 'Book', 'Water']\n"
          ]
        }
      ]
    },
    {
      "cell_type": "code",
      "source": [
        "#remove = to delete/remove items from the list.\n",
        "shopping_list.remove(\"Apple\")\n",
        "print(shopping_list)"
      ],
      "metadata": {
        "colab": {
          "base_uri": "https://localhost:8080/"
        },
        "id": "BYmcFMqOxYWm",
        "outputId": "9e2a9ced-7d46-4762-b78b-13f5a88173fe"
      },
      "execution_count": 37,
      "outputs": [
        {
          "output_type": "stream",
          "name": "stdout",
          "text": [
            "['Juice', 'Banana', 'Ball', 'Book', 'Water']\n"
          ]
        }
      ]
    },
    {
      "cell_type": "code",
      "source": [
        "shopping_list[3] = \"Strawberry\" #replacing items\n",
        "print(shopping_list)"
      ],
      "metadata": {
        "colab": {
          "base_uri": "https://localhost:8080/"
        },
        "id": "XjwW0hyAxy5e",
        "outputId": "f18c31ad-eeb3-4463-ac86-273ff1d35270"
      },
      "execution_count": 39,
      "outputs": [
        {
          "output_type": "stream",
          "name": "stdout",
          "text": [
            "['Juice', 'Banana', 'Ball', 'Strawberry', 'Water']\n"
          ]
        }
      ]
    },
    {
      "cell_type": "code",
      "source": [
        "number_list = [1, 2, 3, 4, 5]\n",
        "\n",
        "square_list = []\n",
        "\n",
        "for num in number_list:\n",
        "\tsquare_list.append(num**2)\n",
        "\n",
        "print(square_list)"
      ],
      "metadata": {
        "colab": {
          "base_uri": "https://localhost:8080/"
        },
        "id": "4M_0L5tUx4Qt",
        "outputId": "0d3770a5-3db2-404d-da76-8a35b14bb7a8"
      },
      "execution_count": 40,
      "outputs": [
        {
          "output_type": "stream",
          "name": "stdout",
          "text": [
            "[1, 4, 9, 16, 25]\n"
          ]
        }
      ]
    },
    {
      "cell_type": "code",
      "source": [
        "#list comprehension\n",
        "\n",
        "number_list = [1, 2, 3, 4, 5]\n",
        "square_list = [num**2 for num in number_list]\n",
        "\n",
        "print(square_list)"
      ],
      "metadata": {
        "colab": {
          "base_uri": "https://localhost:8080/"
        },
        "id": "59NJkCCqytJr",
        "outputId": "7ad63791-2c8e-4112-d301-948f04811a4a"
      },
      "execution_count": 41,
      "outputs": [
        {
          "output_type": "stream",
          "name": "stdout",
          "text": [
            "[1, 4, 9, 16, 25]\n"
          ]
        }
      ]
    },
    {
      "cell_type": "code",
      "source": [
        "#DICTIONARIES\n",
        "\n",
        "phone_book = {\"deniz kaya\": \"5343434\", \"selin\": \"82828828\", \"alican\":\"277272\"}\n",
        "print(phone_book)"
      ],
      "metadata": {
        "colab": {
          "base_uri": "https://localhost:8080/"
        },
        "id": "TgkDBJl1zET5",
        "outputId": "e1ca43c0-a9ed-4d30-a5ae-34747e3bc583"
      },
      "execution_count": 42,
      "outputs": [
        {
          "output_type": "stream",
          "name": "stdout",
          "text": [
            "{'deniz kaya': '5343434', 'selin': '82828828', 'alican': '277272'}\n"
          ]
        }
      ]
    },
    {
      "cell_type": "code",
      "source": [
        "print(phone_book[\"alican\"])"
      ],
      "metadata": {
        "colab": {
          "base_uri": "https://localhost:8080/"
        },
        "id": "aHqFMBSG0vJX",
        "outputId": "52572ed7-4d2e-4036-9161-d5311a20e130"
      },
      "execution_count": 43,
      "outputs": [
        {
          "output_type": "stream",
          "name": "stdout",
          "text": [
            "277272\n"
          ]
        }
      ]
    },
    {
      "cell_type": "code",
      "source": [
        "inventory = dict()\n",
        "inventory[\"bananas\"] = 25\n",
        "inventory[\"apples\"] = 102\n",
        "inventory[\"oranges\"] = 54\n",
        "inventory[\"watermelons\"] = 4\n",
        "\n",
        "print(inventory)"
      ],
      "metadata": {
        "colab": {
          "base_uri": "https://localhost:8080/"
        },
        "id": "wuTlHpPB1RkR",
        "outputId": "778e7a76-9751-48e1-98bb-b23c6078ef7d"
      },
      "execution_count": 45,
      "outputs": [
        {
          "output_type": "stream",
          "name": "stdout",
          "text": [
            "{'bananas': 25, 'apples': 102, 'oranges': 54, 'watermelons': 4}\n"
          ]
        }
      ]
    },
    {
      "cell_type": "code",
      "source": [
        "print(inventory[\"apples\"])"
      ],
      "metadata": {
        "colab": {
          "base_uri": "https://localhost:8080/"
        },
        "id": "Fd-PvYs-1g11",
        "outputId": "991e0f9e-929a-4f88-cfed-cc62d6b5e205"
      },
      "execution_count": 46,
      "outputs": [
        {
          "output_type": "stream",
          "name": "stdout",
          "text": [
            "102\n"
          ]
        }
      ]
    },
    {
      "cell_type": "code",
      "source": [
        "print(inventory.keys())"
      ],
      "metadata": {
        "colab": {
          "base_uri": "https://localhost:8080/"
        },
        "id": "kklAhvDQ3p9V",
        "outputId": "bd75e756-bd00-43dd-f8c1-9528850dae7c"
      },
      "execution_count": 47,
      "outputs": [
        {
          "output_type": "stream",
          "name": "stdout",
          "text": [
            "dict_keys(['bananas', 'apples', 'oranges', 'watermelons'])\n"
          ]
        }
      ]
    },
    {
      "cell_type": "code",
      "source": [
        "print(inventory.values())"
      ],
      "metadata": {
        "colab": {
          "base_uri": "https://localhost:8080/"
        },
        "id": "nBQM4GIM3sTC",
        "outputId": "9c054971-a3b6-41d2-aa35-6c776f1cfc19"
      },
      "execution_count": 48,
      "outputs": [
        {
          "output_type": "stream",
          "name": "stdout",
          "text": [
            "dict_values([25, 102, 54, 4])\n"
          ]
        }
      ]
    },
    {
      "cell_type": "code",
      "source": [
        "print(inventory.items())"
      ],
      "metadata": {
        "colab": {
          "base_uri": "https://localhost:8080/"
        },
        "id": "mgIdIVXK3v3b",
        "outputId": "a97c34fc-8e21-4e22-849d-8ebc6dbe4426"
      },
      "execution_count": 49,
      "outputs": [
        {
          "output_type": "stream",
          "name": "stdout",
          "text": [
            "dict_items([('bananas', 25), ('apples', 102), ('oranges', 54), ('watermelons', 4)])\n"
          ]
        }
      ]
    },
    {
      "cell_type": "code",
      "source": [
        "for key in inventory:\n",
        "\tinventory[key] += 100\n",
        "\n",
        "print(inventory)"
      ],
      "metadata": {
        "colab": {
          "base_uri": "https://localhost:8080/"
        },
        "id": "yDF8VKWn4GPL",
        "outputId": "b0579544-c731-4586-8b76-be839c14c4dd"
      },
      "execution_count": 50,
      "outputs": [
        {
          "output_type": "stream",
          "name": "stdout",
          "text": [
            "{'bananas': 125, 'apples': 202, 'oranges': 154, 'watermelons': 104}\n"
          ]
        }
      ]
    },
    {
      "cell_type": "code",
      "source": [
        "for key, value in inventory.items():\n",
        "\tif value > 200:\n",
        "\t\tprint(\"too many\", key)\n",
        "\telse:\n",
        "\t\tprint(\"enough\", key)"
      ],
      "metadata": {
        "colab": {
          "base_uri": "https://localhost:8080/"
        },
        "id": "4soB3FIC4bm5",
        "outputId": "3dc73665-291d-4ddb-ba91-0c3716ce19ae"
      },
      "execution_count": 51,
      "outputs": [
        {
          "output_type": "stream",
          "name": "stdout",
          "text": [
            "enough bananas\n",
            "too many apples\n",
            "enough oranges\n",
            "enough watermelons\n"
          ]
        }
      ]
    },
    {
      "cell_type": "code",
      "source": [
        "student_age_dict = {\"Alex\": 11, \"Bella\": 12, \"Chris\": 12, \"Donna\": 10}\n",
        "\n",
        "for student in student_age_dict.keys():\n",
        "\tage = student_age_dict[student]\n",
        "\tage += 1\n",
        "\n",
        "print(student_age_dict)"
      ],
      "metadata": {
        "colab": {
          "base_uri": "https://localhost:8080/"
        },
        "id": "aSQ5r4fk5f4a",
        "outputId": "9aaaa54c-d4ef-4a5d-ed97-8580db3e8561"
      },
      "execution_count": 53,
      "outputs": [
        {
          "output_type": "stream",
          "name": "stdout",
          "text": [
            "{'Alex': 11, 'Bella': 12, 'Chris': 12, 'Donna': 10}\n"
          ]
        }
      ]
    },
    {
      "cell_type": "code",
      "source": [
        "#file operations\n",
        "\n"
      ],
      "metadata": {
        "id": "36_1v7-h6QQg"
      },
      "execution_count": 1,
      "outputs": []
    },
    {
      "cell_type": "code",
      "source": [
        "a = 1\n",
        "b = 2\n",
        "c = \"3\"\n",
        "\n",
        "try:\n",
        "\tprint(\"t\", a + c)\n",
        "except:\n",
        "\tc = int(c)\n",
        "\tprint(\"e\", a + c)"
      ],
      "metadata": {
        "colab": {
          "base_uri": "https://localhost:8080/"
        },
        "id": "FLRKjWqydkti",
        "outputId": "7e799ac2-7788-4913-81dd-11b453f4f03e"
      },
      "execution_count": 2,
      "outputs": [
        {
          "output_type": "stream",
          "name": "stdout",
          "text": [
            "e 4\n"
          ]
        }
      ]
    }
  ]
}