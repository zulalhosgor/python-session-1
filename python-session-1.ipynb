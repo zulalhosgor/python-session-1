{
 "cells": [
  {
   "cell_type": "code",
   "execution_count": 4,
   "id": "162521fc",
   "metadata": {},
   "outputs": [
    {
     "data": {
      "text/plain": [
       "bool"
      ]
     },
     "execution_count": 4,
     "metadata": {},
     "output_type": "execute_result"
    }
   ],
   "source": [
    "type(True)"
   ]
  },
  {
   "cell_type": "code",
   "execution_count": 5,
   "id": "7efba880",
   "metadata": {},
   "outputs": [
    {
     "data": {
      "text/plain": [
       "2"
      ]
     },
     "execution_count": 5,
     "metadata": {},
     "output_type": "execute_result"
    }
   ],
   "source": [
    "int(2.9)"
   ]
  },
  {
   "cell_type": "markdown",
   "id": "fe9d375a",
   "metadata": {},
   "source": [
    "#\n"
   ]
  },
  {
   "cell_type": "code",
   "execution_count": 6,
   "id": "b7ecc201",
   "metadata": {},
   "outputs": [
    {
     "data": {
      "text/plain": [
       "4"
      ]
     },
     "execution_count": 6,
     "metadata": {},
     "output_type": "execute_result"
    }
   ],
   "source": [
    "#the sum of two integers gives an integer.\n",
    "2 + 2"
   ]
  },
  {
   "cell_type": "code",
   "execution_count": 7,
   "id": "6748e4e4",
   "metadata": {},
   "outputs": [
    {
     "data": {
      "text/plain": [
       "int"
      ]
     },
     "execution_count": 7,
     "metadata": {},
     "output_type": "execute_result"
    }
   ],
   "source": [
    "type(2+2)"
   ]
  },
  {
   "cell_type": "code",
   "execution_count": 8,
   "id": "c924f23a",
   "metadata": {},
   "outputs": [
    {
     "data": {
      "text/plain": [
       "5.9"
      ]
     },
     "execution_count": 8,
     "metadata": {},
     "output_type": "execute_result"
    }
   ],
   "source": [
    "#the sum of two floats gives an float.\n",
    "2.4 + 3.5"
   ]
  },
  {
   "cell_type": "code",
   "execution_count": 9,
   "id": "4b97b0c3",
   "metadata": {},
   "outputs": [
    {
     "data": {
      "text/plain": [
       "float"
      ]
     },
     "execution_count": 9,
     "metadata": {},
     "output_type": "execute_result"
    }
   ],
   "source": [
    "type(5.9)"
   ]
  },
  {
   "cell_type": "code",
   "execution_count": 10,
   "id": "97ca17cd",
   "metadata": {},
   "outputs": [
    {
     "data": {
      "text/plain": [
       "1"
      ]
     },
     "execution_count": 10,
     "metadata": {},
     "output_type": "execute_result"
    }
   ],
   "source": [
    "#when subtracting two integers, the result is an integer.\n",
    "3-2"
   ]
  },
  {
   "cell_type": "code",
   "execution_count": 11,
   "id": "331e3047",
   "metadata": {},
   "outputs": [
    {
     "data": {
      "text/plain": [
       "1.9"
      ]
     },
     "execution_count": 11,
     "metadata": {},
     "output_type": "execute_result"
    }
   ],
   "source": [
    "#if only one of the objects in the subtraction is float, the result is float. \n",
    "5-3.1\n"
   ]
  },
  {
   "cell_type": "code",
   "execution_count": 12,
   "id": "0f1c5e0e",
   "metadata": {},
   "outputs": [
    {
     "data": {
      "text/plain": [
       "6.0"
      ]
     },
     "execution_count": 12,
     "metadata": {},
     "output_type": "execute_result"
    }
   ],
   "source": [
    "#if only one of the objects in the multiplication operation is float, the result is float. \n",
    "5 * 1.2\n"
   ]
  },
  {
   "cell_type": "code",
   "execution_count": 13,
   "id": "3d645395",
   "metadata": {},
   "outputs": [],
   "source": [
    "#in division, the result is float regardless of the type of objects."
   ]
  },
  {
   "cell_type": "markdown",
   "id": "eecbe2b7",
   "metadata": {},
   "source": [
    "// operator (int division) \n",
    "\n"
   ]
  },
  {
   "cell_type": "code",
   "execution_count": 18,
   "id": "b2bc240b",
   "metadata": {},
   "outputs": [
    {
     "data": {
      "text/plain": [
       "2"
      ]
     },
     "execution_count": 18,
     "metadata": {},
     "output_type": "execute_result"
    }
   ],
   "source": [
    "#if even one of the objects being processed is float, the answer will be float.\n",
    "\n",
    "#shows only the exact part of the result of the division operation.\n",
    "\n",
    "5 // 2\n"
   ]
  },
  {
   "cell_type": "code",
   "execution_count": 15,
   "id": "3b59f41e",
   "metadata": {},
   "outputs": [
    {
     "data": {
      "text/plain": [
       "2.0"
      ]
     },
     "execution_count": 15,
     "metadata": {},
     "output_type": "execute_result"
    }
   ],
   "source": [
    "5 // 2.5\n"
   ]
  },
  {
   "cell_type": "markdown",
   "id": "d7fb56a2",
   "metadata": {},
   "source": [
    "% operator (modulus operator)"
   ]
  },
  {
   "cell_type": "code",
   "execution_count": 20,
   "id": "d86ac9ba",
   "metadata": {},
   "outputs": [
    {
     "data": {
      "text/plain": [
       "1"
      ]
     },
     "execution_count": 20,
     "metadata": {},
     "output_type": "execute_result"
    }
   ],
   "source": [
    "#gives the remainder after division.\n",
    "5%2"
   ]
  },
  {
   "cell_type": "markdown",
   "id": "f8b0e590",
   "metadata": {},
   "source": [
    "** operator"
   ]
  },
  {
   "cell_type": "code",
   "execution_count": 22,
   "id": "c00a1dc2",
   "metadata": {},
   "outputs": [
    {
     "data": {
      "text/plain": [
       "8"
      ]
     },
     "execution_count": 22,
     "metadata": {},
     "output_type": "execute_result"
    }
   ],
   "source": [
    "#performs the operation of taking the exponent of the number.\n",
    "2 ** 3\n"
   ]
  },
  {
   "cell_type": "markdown",
   "id": "88afaace",
   "metadata": {},
   "source": [
    "print ()\n"
   ]
  },
  {
   "cell_type": "markdown",
   "id": "8a1af65f",
   "metadata": {},
   "source": [
    "STRINGS\n"
   ]
  },
  {
   "cell_type": "code",
   "execution_count": 27,
   "id": "e7ec2e91",
   "metadata": {},
   "outputs": [],
   "source": [
    "#each character specified in quotation marks is called a string.\n",
    "#strings are non-scalar.\n",
    "#strings are immutable."
   ]
  },
  {
   "cell_type": "code",
   "execution_count": 28,
   "id": "b8c96094",
   "metadata": {},
   "outputs": [
    {
     "data": {
      "text/plain": [
       "str"
      ]
     },
     "execution_count": 28,
     "metadata": {},
     "output_type": "execute_result"
    }
   ],
   "source": [
    "type(\"anything.?\")"
   ]
  },
  {
   "cell_type": "markdown",
   "id": "3537f3e0",
   "metadata": {},
   "source": [
    "ESCAPE SEQUENCES"
   ]
  },
  {
   "cell_type": "code",
   "execution_count": 30,
   "id": "a962893a",
   "metadata": {},
   "outputs": [
    {
     "data": {
      "text/plain": [
       "'HHH \"hey\"gg'"
      ]
     },
     "execution_count": 30,
     "metadata": {},
     "output_type": "execute_result"
    }
   ],
   "source": [
    "#by using a backslash, you can tell it to treat the quotation mark after it differently.\n",
    "\"HHH \\\"hey\\\"gg\""
   ]
  },
  {
   "cell_type": "code",
   "execution_count": 31,
   "id": "b8552bac",
   "metadata": {},
   "outputs": [
    {
     "data": {
      "text/plain": [
       "\"aleksandra's home\""
      ]
     },
     "execution_count": 31,
     "metadata": {},
     "output_type": "execute_result"
    }
   ],
   "source": [
    "'aleksandra\\'s home'"
   ]
  },
  {
   "cell_type": "code",
   "execution_count": 34,
   "id": "50c492bd",
   "metadata": {},
   "outputs": [
    {
     "name": "stdout",
     "output_type": "stream",
     "text": [
      "hey\n",
      "wassup\n"
     ]
    }
   ],
   "source": [
    "#new line = \\n\n",
    "print(\"hey\\nwassup\")"
   ]
  },
  {
   "cell_type": "code",
   "execution_count": 36,
   "id": "f95ad943",
   "metadata": {},
   "outputs": [
    {
     "name": "stdout",
     "output_type": "stream",
     "text": [
      "hey\twassup\n"
     ]
    }
   ],
   "source": [
    "#tab = 4 times.\n",
    "print(\"hey\\twassup\")"
   ]
  },
  {
   "cell_type": "code",
   "execution_count": 38,
   "id": "0615d5c6",
   "metadata": {},
   "outputs": [
    {
     "name": "stdout",
     "output_type": "stream",
     "text": [
      "okay\\\n"
     ]
    }
   ],
   "source": [
    "print(\"okay\\\\\")"
   ]
  },
  {
   "cell_type": "code",
   "execution_count": null,
   "id": "b6e19a21",
   "metadata": {},
   "outputs": [],
   "source": []
  },
  {
   "cell_type": "code",
   "execution_count": 41,
   "id": "ad1e166c",
   "metadata": {},
   "outputs": [
    {
     "name": "stdout",
     "output_type": "stream",
     "text": [
      "hi!\n"
     ]
    }
   ],
   "source": [
    "#variable assignment\n",
    "hi = \"hi!\"\n",
    "print(hi)"
   ]
  },
  {
   "cell_type": "markdown",
   "id": "830fe904",
   "metadata": {},
   "source": [
    "string concatenation"
   ]
  },
  {
   "cell_type": "code",
   "execution_count": 42,
   "id": "4437ce11",
   "metadata": {},
   "outputs": [],
   "source": [
    "#string concatenation"
   ]
  },
  {
   "cell_type": "code",
   "execution_count": 43,
   "id": "ac355ae6",
   "metadata": {},
   "outputs": [
    {
     "data": {
      "text/plain": [
       "'54'"
      ]
     },
     "execution_count": 43,
     "metadata": {},
     "output_type": "execute_result"
    }
   ],
   "source": [
    "\"5\"+\"4\""
   ]
  },
  {
   "cell_type": "code",
   "execution_count": 44,
   "id": "f16eb9c6",
   "metadata": {},
   "outputs": [
    {
     "data": {
      "text/plain": [
       "'5 4'"
      ]
     },
     "execution_count": 44,
     "metadata": {},
     "output_type": "execute_result"
    }
   ],
   "source": [
    "\"5\"+ \" \"+\"4\""
   ]
  },
  {
   "cell_type": "code",
   "execution_count": 45,
   "id": "445e9e0f",
   "metadata": {},
   "outputs": [
    {
     "data": {
      "text/plain": [
       "'hello aleksandra'"
      ]
     },
     "execution_count": 45,
     "metadata": {},
     "output_type": "execute_result"
    }
   ],
   "source": [
    "message = \"hello\"\n",
    "name = \"aleksandra\"\n",
    "message + \" \" + name"
   ]
  },
  {
   "cell_type": "code",
   "execution_count": 49,
   "id": "0ceeb28d",
   "metadata": {},
   "outputs": [
    {
     "name": "stdout",
     "output_type": "stream",
     "text": [
      "hello aleksandra\n"
     ]
    }
   ],
   "source": [
    "text = message + \" \" + name\n",
    "print(text)"
   ]
  },
  {
   "cell_type": "markdown",
   "id": "a79d9d9a",
   "metadata": {},
   "source": [
    "successive concatenation"
   ]
  },
  {
   "cell_type": "code",
   "execution_count": 50,
   "id": "84284e0d",
   "metadata": {},
   "outputs": [
    {
     "data": {
      "text/plain": [
       "'heyheyheyhey'"
      ]
     },
     "execution_count": 50,
     "metadata": {},
     "output_type": "execute_result"
    }
   ],
   "source": [
    "#successive concatenation\n",
    "\n",
    "4 * \"hey\""
   ]
  },
  {
   "cell_type": "code",
   "execution_count": 51,
   "id": "e9a4836e",
   "metadata": {},
   "outputs": [
    {
     "data": {
      "text/plain": [
       "'heyheyheyhey'"
      ]
     },
     "execution_count": 51,
     "metadata": {},
     "output_type": "execute_result"
    }
   ],
   "source": [
    "\"hey\" + \"hey\" + \"hey\" + \"hey\""
   ]
  },
  {
   "cell_type": "code",
   "execution_count": 52,
   "id": "1d2ae35a",
   "metadata": {},
   "outputs": [
    {
     "data": {
      "text/plain": [
       "'10000000000000000000000000000000000000000000000000000000000000000000000000000000000000000000000000000'"
      ]
     },
     "execution_count": 52,
     "metadata": {},
     "output_type": "execute_result"
    }
   ],
   "source": [
    "\"1\" + \"0\" *100"
   ]
  },
  {
   "cell_type": "code",
   "execution_count": 53,
   "id": "541f8ad8",
   "metadata": {},
   "outputs": [
    {
     "data": {
      "text/plain": [
       "str"
      ]
     },
     "execution_count": 53,
     "metadata": {},
     "output_type": "execute_result"
    }
   ],
   "source": [
    "type(\"1\" + \"0\" *100)"
   ]
  },
  {
   "cell_type": "markdown",
   "id": "6cf6d227",
   "metadata": {},
   "source": [
    "# len()\n"
   ]
  },
  {
   "cell_type": "code",
   "execution_count": 54,
   "id": "37f2b166",
   "metadata": {},
   "outputs": [
    {
     "data": {
      "text/plain": [
       "5"
      ]
     },
     "execution_count": 54,
     "metadata": {},
     "output_type": "execute_result"
    }
   ],
   "source": [
    "len(\"12345\")"
   ]
  },
  {
   "cell_type": "code",
   "execution_count": 55,
   "id": "d1e00c4b",
   "metadata": {},
   "outputs": [
    {
     "data": {
      "text/plain": [
       "19"
      ]
     },
     "execution_count": 55,
     "metadata": {},
     "output_type": "execute_result"
    }
   ],
   "source": [
    "len(\"hahahahhahahhahhaha\")"
   ]
  },
  {
   "cell_type": "code",
   "execution_count": 56,
   "id": "65b7b845",
   "metadata": {},
   "outputs": [
    {
     "data": {
      "text/plain": [
       "1"
      ]
     },
     "execution_count": 56,
     "metadata": {},
     "output_type": "execute_result"
    }
   ],
   "source": [
    "len(\" \")"
   ]
  },
  {
   "cell_type": "markdown",
   "id": "c1205671",
   "metadata": {},
   "source": [
    "# indexing [  ] , starting from 0 "
   ]
  },
  {
   "cell_type": "code",
   "execution_count": 59,
   "id": "88697bdf",
   "metadata": {},
   "outputs": [
    {
     "data": {
      "text/plain": [
       "'k'"
      ]
     },
     "execution_count": 59,
     "metadata": {},
     "output_type": "execute_result"
    }
   ],
   "source": [
    "name = \"aleksandra\"\n",
    "name[3]"
   ]
  },
  {
   "cell_type": "code",
   "execution_count": 61,
   "id": "8d028ad4",
   "metadata": {},
   "outputs": [
    {
     "data": {
      "text/plain": [
       "'k'"
      ]
     },
     "execution_count": 61,
     "metadata": {},
     "output_type": "execute_result"
    }
   ],
   "source": [
    "#no need to variable assignment always.\n",
    "\"aleksandra\"[3]"
   ]
  },
  {
   "cell_type": "code",
   "execution_count": 62,
   "id": "f9ffb5dd",
   "metadata": {},
   "outputs": [
    {
     "data": {
      "text/plain": [
       "'a'"
      ]
     },
     "execution_count": 62,
     "metadata": {},
     "output_type": "execute_result"
    }
   ],
   "source": [
    "#if you want last element of something.\n",
    "name[-1]"
   ]
  },
  {
   "cell_type": "code",
   "execution_count": 63,
   "id": "4395065c",
   "metadata": {},
   "outputs": [
    {
     "data": {
      "text/plain": [
       "'r'"
      ]
     },
     "execution_count": 63,
     "metadata": {},
     "output_type": "execute_result"
    }
   ],
   "source": [
    "name[-2]"
   ]
  },
  {
   "cell_type": "code",
   "execution_count": 68,
   "id": "a4d1794a",
   "metadata": {},
   "outputs": [],
   "source": [
    "#since strings are immutable you cannot change their elements."
   ]
  },
  {
   "cell_type": "code",
   "execution_count": 70,
   "id": "2fbf222d",
   "metadata": {},
   "outputs": [],
   "source": [
    "name = \"aleksandra\""
   ]
  },
  {
   "cell_type": "code",
   "execution_count": 71,
   "id": "c866d1cf",
   "metadata": {},
   "outputs": [
    {
     "ename": "NameError",
     "evalue": "name 'b' is not defined",
     "output_type": "error",
     "traceback": [
      "\u001b[0;31m---------------------------------------------------------------------------\u001b[0m",
      "\u001b[0;31mNameError\u001b[0m                                 Traceback (most recent call last)",
      "\u001b[0;32m/var/folders/n5/t0qr_kbd0z569ltn7n433qtm0000gn/T/ipykernel_43222/3284600328.py\u001b[0m in \u001b[0;36m<module>\u001b[0;34m\u001b[0m\n\u001b[0;32m----> 1\u001b[0;31m \u001b[0mname\u001b[0m\u001b[0;34m[\u001b[0m\u001b[0;36m0\u001b[0m\u001b[0;34m]\u001b[0m \u001b[0;34m=\u001b[0m \u001b[0mb\u001b[0m\u001b[0;34m\u001b[0m\u001b[0;34m\u001b[0m\u001b[0m\n\u001b[0m",
      "\u001b[0;31mNameError\u001b[0m: name 'b' is not defined"
     ]
    }
   ],
   "source": [
    "name[0] = b"
   ]
  },
  {
   "cell_type": "markdown",
   "id": "7eb2e6aa",
   "metadata": {},
   "source": [
    "# slicing"
   ]
  },
  {
   "cell_type": "code",
   "execution_count": 72,
   "id": "d237bfea",
   "metadata": {},
   "outputs": [],
   "source": [
    "name = \"aleksandra\""
   ]
  },
  {
   "cell_type": "code",
   "execution_count": 73,
   "id": "dc2bd9e9",
   "metadata": {},
   "outputs": [
    {
     "data": {
      "text/plain": [
       "'ale'"
      ]
     },
     "execution_count": 73,
     "metadata": {},
     "output_type": "execute_result"
    }
   ],
   "source": [
    "name[0:3]"
   ]
  },
  {
   "cell_type": "code",
   "execution_count": 74,
   "id": "a83da470",
   "metadata": {},
   "outputs": [
    {
     "data": {
      "text/plain": [
       "'ale'"
      ]
     },
     "execution_count": 74,
     "metadata": {},
     "output_type": "execute_result"
    }
   ],
   "source": [
    "name[:3]"
   ]
  },
  {
   "cell_type": "code",
   "execution_count": 75,
   "id": "ad420438",
   "metadata": {},
   "outputs": [
    {
     "data": {
      "text/plain": [
       "'ksandra'"
      ]
     },
     "execution_count": 75,
     "metadata": {},
     "output_type": "execute_result"
    }
   ],
   "source": [
    "name[3:]"
   ]
  },
  {
   "cell_type": "code",
   "execution_count": 77,
   "id": "a20b2687",
   "metadata": {},
   "outputs": [],
   "source": [
    "#the first typed index number is included, but not the last one.\n",
    "#if you do not specify the beginning, it operates from the beginning. if you do not specify the last element, it operates until the last element."
   ]
  },
  {
   "cell_type": "code",
   "execution_count": 78,
   "id": "59fe740b",
   "metadata": {},
   "outputs": [],
   "source": [
    "#In the slicing process, if the value we give as the end is greater than our largest index, we will not get an error."
   ]
  },
  {
   "cell_type": "code",
   "execution_count": 80,
   "id": "a9516629",
   "metadata": {},
   "outputs": [
    {
     "data": {
      "text/plain": [
       "'aleksandra'"
      ]
     },
     "execution_count": 80,
     "metadata": {},
     "output_type": "execute_result"
    }
   ],
   "source": [
    "name[0:50000]"
   ]
  },
  {
   "cell_type": "code",
   "execution_count": 81,
   "id": "16ef52e7",
   "metadata": {},
   "outputs": [],
   "source": [
    "# start point : ending point : rule"
   ]
  },
  {
   "cell_type": "code",
   "execution_count": 82,
   "id": "ecc72561",
   "metadata": {},
   "outputs": [
    {
     "data": {
      "text/plain": [
       "'aesnr'"
      ]
     },
     "execution_count": 82,
     "metadata": {},
     "output_type": "execute_result"
    }
   ],
   "source": [
    "name[0:500:2]"
   ]
  },
  {
   "cell_type": "code",
   "execution_count": 83,
   "id": "21d58850",
   "metadata": {},
   "outputs": [
    {
     "data": {
      "text/plain": [
       "'ae'"
      ]
     },
     "execution_count": 83,
     "metadata": {},
     "output_type": "execute_result"
    }
   ],
   "source": [
    "name[0:3:2]"
   ]
  },
  {
   "cell_type": "code",
   "execution_count": 84,
   "id": "f37dd260",
   "metadata": {},
   "outputs": [],
   "source": [
    "#the same process can also be done backwards. but the last element must be written first."
   ]
  },
  {
   "cell_type": "code",
   "execution_count": 86,
   "id": "34eea817",
   "metadata": {},
   "outputs": [
    {
     "data": {
      "text/plain": [
       "'adakl'"
      ]
     },
     "execution_count": 86,
     "metadata": {},
     "output_type": "execute_result"
    }
   ],
   "source": [
    "name[10:0:-2]"
   ]
  },
  {
   "cell_type": "code",
   "execution_count": 87,
   "id": "a96eccac",
   "metadata": {},
   "outputs": [
    {
     "data": {
      "text/plain": [
       "'ardnaskela'"
      ]
     },
     "execution_count": 87,
     "metadata": {},
     "output_type": "execute_result"
    }
   ],
   "source": [
    "name[10::-1]"
   ]
  },
  {
   "cell_type": "code",
   "execution_count": 88,
   "id": "7fa74516",
   "metadata": {},
   "outputs": [
    {
     "data": {
      "text/plain": [
       "'ardnaskela'"
      ]
     },
     "execution_count": 88,
     "metadata": {},
     "output_type": "execute_result"
    }
   ],
   "source": [
    "name[::-1]"
   ]
  },
  {
   "cell_type": "markdown",
   "id": "31a8d9e5",
   "metadata": {},
   "source": [
    "# CASTING IN STRINGS"
   ]
  },
  {
   "cell_type": "code",
   "execution_count": 92,
   "id": "bde46781",
   "metadata": {},
   "outputs": [
    {
     "data": {
      "text/plain": [
       "5"
      ]
     },
     "execution_count": 92,
     "metadata": {},
     "output_type": "execute_result"
    }
   ],
   "source": [
    "a = \"5\"\n",
    "int(a)"
   ]
  },
  {
   "cell_type": "code",
   "execution_count": 94,
   "id": "19efddb9",
   "metadata": {},
   "outputs": [
    {
     "ename": "ValueError",
     "evalue": "invalid literal for int() with base 10: 'hi5'",
     "output_type": "error",
     "traceback": [
      "\u001b[0;31m---------------------------------------------------------------------------\u001b[0m",
      "\u001b[0;31mValueError\u001b[0m                                Traceback (most recent call last)",
      "\u001b[0;32m/var/folders/n5/t0qr_kbd0z569ltn7n433qtm0000gn/T/ipykernel_43222/990280042.py\u001b[0m in \u001b[0;36m<module>\u001b[0;34m\u001b[0m\n\u001b[1;32m      1\u001b[0m \u001b[0ma\u001b[0m \u001b[0;34m=\u001b[0m \u001b[0;34m\"hi5\"\u001b[0m\u001b[0;34m\u001b[0m\u001b[0;34m\u001b[0m\u001b[0m\n\u001b[0;32m----> 2\u001b[0;31m \u001b[0mint\u001b[0m\u001b[0;34m(\u001b[0m\u001b[0ma\u001b[0m\u001b[0;34m)\u001b[0m\u001b[0;34m\u001b[0m\u001b[0;34m\u001b[0m\u001b[0m\n\u001b[0m",
      "\u001b[0;31mValueError\u001b[0m: invalid literal for int() with base 10: 'hi5'"
     ]
    }
   ],
   "source": [
    "a = \"hi5\"\n",
    "int(a)"
   ]
  },
  {
   "cell_type": "code",
   "execution_count": 97,
   "id": "41b07523",
   "metadata": {},
   "outputs": [
    {
     "ename": "ValueError",
     "evalue": "invalid literal for int() with base 10: '5.3'",
     "output_type": "error",
     "traceback": [
      "\u001b[0;31m---------------------------------------------------------------------------\u001b[0m",
      "\u001b[0;31mValueError\u001b[0m                                Traceback (most recent call last)",
      "\u001b[0;32m/var/folders/n5/t0qr_kbd0z569ltn7n433qtm0000gn/T/ipykernel_43222/4030483915.py\u001b[0m in \u001b[0;36m<module>\u001b[0;34m\u001b[0m\n\u001b[1;32m      1\u001b[0m \u001b[0mb\u001b[0m \u001b[0;34m=\u001b[0m \u001b[0;34m\"5.3\"\u001b[0m\u001b[0;34m\u001b[0m\u001b[0;34m\u001b[0m\u001b[0m\n\u001b[0;32m----> 2\u001b[0;31m \u001b[0mint\u001b[0m\u001b[0;34m(\u001b[0m\u001b[0mb\u001b[0m\u001b[0;34m)\u001b[0m\u001b[0;34m\u001b[0m\u001b[0;34m\u001b[0m\u001b[0m\n\u001b[0m",
      "\u001b[0;31mValueError\u001b[0m: invalid literal for int() with base 10: '5.3'"
     ]
    }
   ],
   "source": [
    "b = \"5.3\"\n",
    "int(b)"
   ]
  },
  {
   "cell_type": "code",
   "execution_count": 98,
   "id": "e6dc9878",
   "metadata": {},
   "outputs": [
    {
     "data": {
      "text/plain": [
       "5.1"
      ]
     },
     "execution_count": 98,
     "metadata": {},
     "output_type": "execute_result"
    }
   ],
   "source": [
    "b = \"5.1\"\n",
    "float(b)"
   ]
  },
  {
   "cell_type": "code",
   "execution_count": 100,
   "id": "d97514f0",
   "metadata": {},
   "outputs": [
    {
     "data": {
      "text/plain": [
       "5"
      ]
     },
     "execution_count": 100,
     "metadata": {},
     "output_type": "execute_result"
    }
   ],
   "source": [
    "b = \"5.4\"\n",
    "int(float(b))"
   ]
  },
  {
   "cell_type": "markdown",
   "id": "e30c112e",
   "metadata": {},
   "source": [
    "# input"
   ]
  },
  {
   "cell_type": "code",
   "execution_count": 101,
   "id": "2394de42",
   "metadata": {},
   "outputs": [],
   "source": [
    "#input value is string.\n"
   ]
  },
  {
   "cell_type": "code",
   "execution_count": 104,
   "id": "ada7fb93",
   "metadata": {},
   "outputs": [
    {
     "name": "stdout",
     "output_type": "stream",
     "text": [
      "enter a number10\n"
     ]
    }
   ],
   "source": [
    "x = input(\"enter a number\")"
   ]
  },
  {
   "cell_type": "code",
   "execution_count": 105,
   "id": "265d2cc9",
   "metadata": {},
   "outputs": [
    {
     "data": {
      "text/plain": [
       "str"
      ]
     },
     "execution_count": 105,
     "metadata": {},
     "output_type": "execute_result"
    }
   ],
   "source": [
    "type(x)"
   ]
  },
  {
   "cell_type": "code",
   "execution_count": 108,
   "id": "854c3873",
   "metadata": {},
   "outputs": [
    {
     "name": "stdout",
     "output_type": "stream",
     "text": [
      "enter a number5\n"
     ]
    }
   ],
   "source": [
    "#directly casting to integer\n",
    "\n",
    "x = int(input(\"enter a number\"))"
   ]
  },
  {
   "cell_type": "code",
   "execution_count": 107,
   "id": "017bee2f",
   "metadata": {},
   "outputs": [
    {
     "data": {
      "text/plain": [
       "10"
      ]
     },
     "execution_count": 107,
     "metadata": {},
     "output_type": "execute_result"
    }
   ],
   "source": [
    "x + 5"
   ]
  },
  {
   "cell_type": "code",
   "execution_count": null,
   "id": "2db60b71",
   "metadata": {},
   "outputs": [],
   "source": []
  },
  {
   "cell_type": "code",
   "execution_count": 110,
   "id": "ec6a1256",
   "metadata": {},
   "outputs": [],
   "source": [
    "x = 2 #comment line does not have to be in the different line."
   ]
  },
  {
   "cell_type": "code",
   "execution_count": 115,
   "id": "49671754",
   "metadata": {},
   "outputs": [
    {
     "name": "stdout",
     "output_type": "stream",
     "text": [
      "2\n"
     ]
    }
   ],
   "source": [
    "\"\"\"this is also \n",
    "a comment line\"\"\"\n",
    "x=2\n",
    "print(x)"
   ]
  },
  {
   "cell_type": "code",
   "execution_count": null,
   "id": "b743e6d1",
   "metadata": {},
   "outputs": [],
   "source": []
  }
 ],
 "metadata": {
  "kernelspec": {
   "display_name": "Python 3 (ipykernel)",
   "language": "python",
   "name": "python3"
  },
  "language_info": {
   "codemirror_mode": {
    "name": "ipython",
    "version": 3
   },
   "file_extension": ".py",
   "mimetype": "text/x-python",
   "name": "python",
   "nbconvert_exporter": "python",
   "pygments_lexer": "ipython3",
   "version": "3.9.13"
  }
 },
 "nbformat": 4,
 "nbformat_minor": 5
}
